{
 "cells": [
  {
   "cell_type": "markdown",
   "metadata": {},
   "source": [
    "# Advanced Data Science &amp; Python for Finance  <br><br> Capital IQ + Backtesting & Intrinio API \n",
    "\n",
    "-----\n",
    "\n",
    "FIN580-59305\n",
    "\n",
    "Jose Luis Rodriguez\n",
    "\n",
    "Director of Margolis Market Information Lab at University of Illinois at Urbana-Champaign.\n",
    "\n",
    "* linkedin.com/in/jlroo\n",
    "* github.com/jlroo\n",
    "\n",
    "-----\n",
    "\n",
    "* [Intrinio API](#intrinio)\n",
    "* [Common Financial Analyses](#commonanalyses)\n",
    "* [Building A Trading Strategy](#tradingstrategy)\n",
    "* [Backtesting with Pandas and Matplotlib](#backtesting)\n",
    "* [Backtrader](#backtrader)\n",
    "    "
   ]
  },
  {
   "cell_type": "markdown",
   "metadata": {},
   "source": [
    "## Packages and Settings\n",
    "\n",
    "First make sure that the API credentials are stored in a secure file to minimize exposure. We will use the package ``configparses`` to reach the credentials."
   ]
  },
  {
   "cell_type": "markdown",
   "metadata": {},
   "source": [
    "**Configuration**"
   ]
  },
  {
   "cell_type": "code",
   "execution_count": null,
   "metadata": {},
   "outputs": [],
   "source": [
    "import intrinio_sdk\n",
    "import configparser as cp"
   ]
  },
  {
   "cell_type": "markdown",
   "metadata": {},
   "source": [
    "**Scientific Analysis**"
   ]
  },
  {
   "cell_type": "code",
   "execution_count": null,
   "metadata": {},
   "outputs": [],
   "source": [
    "import pandas as pd"
   ]
  },
  {
   "cell_type": "markdown",
   "metadata": {},
   "source": [
    "## Capital IQ - S&P Composite 1500 (^SP1500) > Constituents\n",
    "\n",
    "\n",
    "<img src=\"https://compass2g.illinois.edu/bbcswebdav/courses/fin_580_120201_187292/sp1500.png\"></img>\n",
    "\n",
    "<br>\n",
    "\n",
    "1. Download the constituents of SP1500 from Capital IQ\n",
    "2. After downloading the constituents as excel file. Read the file using pandas `read_excel` functions\n",
    "3. Make sure that when you read the file you skip the empty rows at the header and footer of the excel file\n"
   ]
  },
  {
   "cell_type": "code",
   "execution_count": null,
   "metadata": {},
   "outputs": [],
   "source": [
    "sp_df = pd.read_excel(\"../data/SP1500.xls\", skiprows = 14, skipfooter = 12)"
   ]
  },
  {
   "cell_type": "code",
   "execution_count": null,
   "metadata": {},
   "outputs": [],
   "source": [
    "sp_df.head()"
   ]
  },
  {
   "cell_type": "code",
   "execution_count": null,
   "metadata": {},
   "outputs": [],
   "source": [
    "sp_df.tail()"
   ]
  },
  {
   "cell_type": "code",
   "execution_count": null,
   "metadata": {},
   "outputs": [],
   "source": [
    "sp_df.columns"
   ]
  },
  {
   "cell_type": "code",
   "execution_count": null,
   "metadata": {},
   "outputs": [],
   "source": [
    "sp_df.columns = ['company', 'Exchange:Ticker', 'currency',\n",
    "                 'marketcap_mm', 'revenue_mm', 'pct_price_change_lastday',\n",
    "                 'pct_pricechange_30day', 'pct_price_change_ytd', 'pct_price_change_12_month', \n",
    "                 'price_close', 'price_earnings_ratio', 'price_bookvalue_ratio', 'industry']"
   ]
  },
  {
   "cell_type": "code",
   "execution_count": null,
   "metadata": {},
   "outputs": [],
   "source": [
    "sp_df['exchange'] = sp_df['Exchange:Ticker'].apply(lambda i:i.split(\":\")[0])\n",
    "sp_df['ticker']  = sp_df['Exchange:Ticker'].apply(lambda i:i.split(\":\")[1])"
   ]
  },
  {
   "cell_type": "code",
   "execution_count": null,
   "metadata": {},
   "outputs": [],
   "source": [
    "sp_df = sp_df.drop(columns=['Exchange:Ticker','currency'])\n",
    "sp_df.columns"
   ]
  },
  {
   "cell_type": "markdown",
   "metadata": {},
   "source": [
    "**Reorder columns**"
   ]
  },
  {
   "cell_type": "code",
   "execution_count": null,
   "metadata": {},
   "outputs": [],
   "source": [
    "sp_df = sp_df[['company','ticker', 'price_close', 'pct_price_change_lastday', \n",
    "               'pct_pricechange_30day', 'pct_price_change_ytd', 'pct_price_change_12_month',\n",
    "               'price_earnings_ratio', 'price_bookvalue_ratio', 'marketcap_mm', \n",
    "               'revenue_mm','exchange', 'industry']]\n",
    "\n",
    "sp_df.shape"
   ]
  },
  {
   "cell_type": "markdown",
   "metadata": {},
   "source": [
    "**Remove the Percentage sign and parentheses from pct_price_change_lastday**"
   ]
  },
  {
   "cell_type": "code",
   "execution_count": null,
   "metadata": {},
   "outputs": [],
   "source": [
    "pct_price_change_lastday = sp_df['pct_price_change_lastday'].apply(lambda x: x.replace('-', \"\"))\n",
    "pct_price_change_lastday = pct_price_change_lastday.apply(lambda x: x.replace('(', '-'))\n",
    "pct_price_change_lastday = pct_price_change_lastday.apply(lambda x: x.replace(')', ''))\n",
    "pct_price_change_lastday = pct_price_change_lastday.apply(lambda x: x.replace('%', ''))\n",
    "pct_price_change_lastday = pd.to_numeric(pct_price_change_lastday)\n",
    "\n",
    "pct_pricechange_30day = sp_df['pct_pricechange_30day'].apply(lambda x: x.replace('-', \"\"))\n",
    "pct_pricechange_30day = pct_pricechange_30day.apply(lambda x: x.replace('(', '-'))\n",
    "pct_pricechange_30day = pct_pricechange_30day.apply(lambda x: x.replace(')', ''))\n",
    "pct_pricechange_30day = pct_pricechange_30day.apply(lambda x: x.replace('%', ''))\n",
    "pct_pricechange_30day = pd.to_numeric(pct_pricechange_30day)\n",
    "\n",
    "pct_price_change_ytd = sp_df['pct_price_change_ytd'].apply(lambda x: x.replace('-', \"\"))\n",
    "pct_price_change_ytd = pct_price_change_ytd.apply(lambda x: x.replace('(', '-'))\n",
    "pct_price_change_ytd = pct_price_change_ytd.apply(lambda x: x.replace(')', ''))\n",
    "pct_price_change_ytd = pct_price_change_ytd.apply(lambda x: x.replace('%', ''))\n",
    "pct_price_change_ytd = pd.to_numeric(pct_price_change_ytd)\n",
    "\n",
    "pct_price_change_12_month = sp_df['pct_price_change_12_month'].apply(lambda x: x.replace('-', \"\"))\n",
    "pct_price_change_12_month = pct_price_change_12_month.apply(lambda x: x.replace('(', '-'))\n",
    "pct_price_change_12_month = pct_price_change_12_month.apply(lambda x: x.replace(')', ''))\n",
    "pct_price_change_12_month = pct_price_change_12_month.apply(lambda x: x.replace('%', ''))\n",
    "pct_price_change_12_month = pd.to_numeric(pct_price_change_12_month)"
   ]
  },
  {
   "cell_type": "code",
   "execution_count": null,
   "metadata": {},
   "outputs": [],
   "source": [
    "sp_df['pct_price_change_lastday'] = pct_price_change_lastday\n",
    "sp_df['pct_pricechange_30day'] = pct_pricechange_30day\n",
    "sp_df['pct_price_change_ytd'] = pct_price_change_ytd\n",
    "sp_df['pct_price_change_12_month'] = pct_price_change_12_month"
   ]
  },
  {
   "cell_type": "markdown",
   "metadata": {},
   "source": [
    "**After changing all the values to numeric drop any NAs from the data frame**"
   ]
  },
  {
   "cell_type": "code",
   "execution_count": null,
   "metadata": {},
   "outputs": [],
   "source": [
    "sp_df = sp_df.dropna()\n",
    "sp_df.shape"
   ]
  },
  {
   "cell_type": "markdown",
   "metadata": {},
   "source": [
    "**Save final dataframe to csv**"
   ]
  },
  {
   "cell_type": "code",
   "execution_count": null,
   "metadata": {},
   "outputs": [],
   "source": [
    "sp_df.to_csv(\"../data/SP1500.csv\")"
   ]
  },
  {
   "cell_type": "markdown",
   "metadata": {},
   "source": [
    "**Now find an industries with at least 10 companies**"
   ]
  },
  {
   "cell_type": "code",
   "execution_count": null,
   "metadata": {},
   "outputs": [],
   "source": [
    "pd.value_counts(sp_df['industry'])[(pd.value_counts(sp_df['industry'])>10)]"
   ]
  },
  {
   "cell_type": "markdown",
   "metadata": {},
   "source": [
    "**Create a new dataframe with only the industry that you selected**"
   ]
  },
  {
   "cell_type": "code",
   "execution_count": null,
   "metadata": {},
   "outputs": [],
   "source": [
    "oil = sp_df[sp_df['industry']=='Oil and Gas Exploration and Production']\n",
    "oil.head()"
   ]
  },
  {
   "cell_type": "code",
   "execution_count": null,
   "metadata": {},
   "outputs": [],
   "source": [
    "tickers = oil['ticker'].to_list()\n",
    "tickers[:5]"
   ]
  },
  {
   "cell_type": "markdown",
   "metadata": {},
   "source": [
    "<a id='intrinio'></a>\n",
    "## Intrinio API \n",
    "**Secure method to load API credentials**"
   ]
  },
  {
   "cell_type": "code",
   "execution_count": null,
   "metadata": {},
   "outputs": [],
   "source": [
    "cfg = cp.ConfigParser()\n",
    "cfg.read('../resources/credentials.cfg')"
   ]
  },
  {
   "cell_type": "markdown",
   "metadata": {},
   "source": [
    "**Connect to Intrinio API using your sandbox API key**"
   ]
  },
  {
   "cell_type": "code",
   "execution_count": null,
   "metadata": {},
   "outputs": [],
   "source": [
    "API_KEY = cfg['intrinio']['app_key']\n",
    "\n",
    "intrinio_sdk.ApiClient().configuration.api_key['api_key'] = API_KEY\n",
    "\n",
    "security_api = intrinio_sdk.SecurityApi()"
   ]
  },
  {
   "cell_type": "markdown",
   "metadata": {},
   "source": [
    "**Intrinio API Request**"
   ]
  },
  {
   "cell_type": "code",
   "execution_count": null,
   "metadata": {},
   "outputs": [],
   "source": [
    "# ~120 Trading Days\n",
    "len(pd.bdate_range('2019-11-01','2020-04-28'))"
   ]
  },
  {
   "cell_type": "code",
   "execution_count": null,
   "metadata": {},
   "outputs": [],
   "source": [
    "# date | Return prices on or after the date (optional)\n",
    "start_date = '2019-11-01'\n",
    "\n",
    "# date | Return prices on or before the date (optional)\n",
    "end_date = '2020-04-28'\n",
    "\n",
    "# str | Return stock prices in the given frequency (optional) (default to daily)\n",
    "frequency = 'daily' "
   ]
  },
  {
   "cell_type": "markdown",
   "metadata": {},
   "source": [
    "## Making multiple request to Intrinio API"
   ]
  },
  {
   "cell_type": "code",
   "execution_count": null,
   "metadata": {},
   "outputs": [],
   "source": [
    "dfs = []\n",
    "\n",
    "for ticker in tickers:\n",
    "    next_page = ''\n",
    "    response = security_api.get_security_stock_prices(ticker,\n",
    "                                                      start_date = start_date,\n",
    "                                                      end_date = end_date)\n",
    "    df = [p.to_dict() for p in response.stock_prices]\n",
    "    next_page = response.next_page\n",
    "    if next_page != None:\n",
    "        response = security_api.get_security_stock_prices(ticker,\n",
    "                                                          start_date = start_date,\n",
    "                                                          end_date = end_date,\n",
    "                                                          next_page = next_page)    \n",
    "        df.extend(p.to_dict() for p in response.stock_prices)\n",
    "    df = pd.DataFrame.from_dict(df)\n",
    "    df['secid'] = ticker\n",
    "    dfs.append(df)"
   ]
  },
  {
   "cell_type": "code",
   "execution_count": null,
   "metadata": {},
   "outputs": [],
   "source": [
    "oil_df = pd.concat(dfs)\n",
    "oil_df.index = pd.DatetimeIndex(oil_df['date'])\n",
    "oil_df = oil_df.drop('date', axis=1)\n",
    "oil_df.index.name = None\n",
    "\n",
    "#SORT DATETIME INDEX\n",
    "oil_df = oil_df.sort_index()\n",
    "oil_df.shape"
   ]
  },
  {
   "cell_type": "code",
   "execution_count": null,
   "metadata": {},
   "outputs": [],
   "source": [
    "oil_df.head()"
   ]
  },
  {
   "cell_type": "code",
   "execution_count": null,
   "metadata": {},
   "outputs": [],
   "source": [
    "oil_df.to_csv(\"../data/oil_df-jul.csv\")"
   ]
  }
 ],
 "metadata": {
  "hide_input": false,
  "kernelspec": {
   "display_name": "Python 3",
   "language": "python",
   "name": "python3"
  },
  "language_info": {
   "codemirror_mode": {
    "name": "ipython",
    "version": 3
   },
   "file_extension": ".py",
   "mimetype": "text/x-python",
   "name": "python",
   "nbconvert_exporter": "python",
   "pygments_lexer": "ipython3",
   "version": "3.7.6"
  },
  "toc": {
   "nav_menu": {},
   "number_sections": true,
   "sideBar": true,
   "skip_h1_title": false,
   "toc_cell": false,
   "toc_position": {},
   "toc_section_display": "block",
   "toc_window_display": false
  }
 },
 "nbformat": 4,
 "nbformat_minor": 2
}
