{
 "cells": [
  {
   "cell_type": "markdown",
   "metadata": {},
   "source": [
    "# Advanced Data Science &amp; Python for Finance  <br><br> Introduction to Backtesting & Intrinio API\n",
    "\n",
    "-----\n",
    "\n",
    "FIN580-59305\n",
    "\n",
    "Jose Luis Rodriguez\n",
    "\n",
    "Director of Margolis Market Information Lab at University of Illinois at Urbana-Champaign.\n",
    "\n",
    "* linkedin.com/in/jlroo\n",
    "* github.com/jlroo\n",
    "\n",
    "-----\n",
    "\n",
    "* [Common Financial Analyses](#commonanalyses)\n",
    "    - Ordinary Least-Squares Regression (OLS)\n",
    "* [Building A Trading Strategy](#tradingstrategy)\n",
    "* [Backtesting A Strategy](#backtesting)\n",
    "* [Evaluating The Trading Strategy](#evaluating)\n",
    "    - Sharpe Ratio\n",
    "    - Maximum Drawdown\n",
    "    - Compound Annual Growth Rate\n",
    "    "
   ]
  },
  {
   "cell_type": "markdown",
   "metadata": {},
   "source": [
    "## Packages and Settings\n",
    "\n",
    "First make sure that the API credentials are stored in a secure file to minimize exposure. We will use the package ``configparses`` to reach the credentials."
   ]
  },
  {
   "cell_type": "markdown",
   "metadata": {},
   "source": [
    "**Configuration**"
   ]
  },
  {
   "cell_type": "code",
   "execution_count": 1,
   "metadata": {},
   "outputs": [],
   "source": [
    "import intrinio_sdk\n",
    "import configparser as cp"
   ]
  },
  {
   "cell_type": "markdown",
   "metadata": {},
   "source": [
    "**Scientific Analysis**"
   ]
  },
  {
   "cell_type": "code",
   "execution_count": 2,
   "metadata": {},
   "outputs": [
    {
     "data": {
      "text/html": [
       "        <script type=\"text/javascript\">\n",
       "        window.PlotlyConfig = {MathJaxConfig: 'local'};\n",
       "        if (window.MathJax) {MathJax.Hub.Config({SVG: {font: \"STIX-Web\"}});}\n",
       "        if (typeof require !== 'undefined') {\n",
       "        require.undef(\"plotly\");\n",
       "        requirejs.config({\n",
       "            paths: {\n",
       "                'plotly': ['https://cdn.plot.ly/plotly-latest.min']\n",
       "            }\n",
       "        });\n",
       "        require(['plotly'], function(Plotly) {\n",
       "            window._Plotly = Plotly;\n",
       "        });\n",
       "        }\n",
       "        </script>\n",
       "        "
      ]
     },
     "metadata": {},
     "output_type": "display_data"
    },
    {
     "data": {
      "text/html": [
       "        <script type=\"text/javascript\">\n",
       "        window.PlotlyConfig = {MathJaxConfig: 'local'};\n",
       "        if (window.MathJax) {MathJax.Hub.Config({SVG: {font: \"STIX-Web\"}});}\n",
       "        if (typeof require !== 'undefined') {\n",
       "        require.undef(\"plotly\");\n",
       "        requirejs.config({\n",
       "            paths: {\n",
       "                'plotly': ['https://cdn.plot.ly/plotly-latest.min']\n",
       "            }\n",
       "        });\n",
       "        require(['plotly'], function(Plotly) {\n",
       "            window._Plotly = Plotly;\n",
       "        });\n",
       "        }\n",
       "        </script>\n",
       "        "
      ]
     },
     "metadata": {},
     "output_type": "display_data"
    }
   ],
   "source": [
    "import statsmodels.api as sm\n",
    "import numpy as np\n",
    "import pandas as pd\n",
    "import cufflinks as cf \n",
    "import matplotlib.pyplot as plt\n",
    "cf.set_config_file(offline=True)"
   ]
  },
  {
   "cell_type": "markdown",
   "metadata": {},
   "source": [
    "**Secure method to load API credentials**"
   ]
  },
  {
   "cell_type": "code",
   "execution_count": 3,
   "metadata": {},
   "outputs": [
    {
     "data": {
      "text/plain": [
       "['../resources/credentials.cfg']"
      ]
     },
     "execution_count": 3,
     "metadata": {},
     "output_type": "execute_result"
    }
   ],
   "source": [
    "cfg = cp.ConfigParser()\n",
    "cfg.read('../resources/credentials.cfg')"
   ]
  },
  {
   "cell_type": "markdown",
   "metadata": {},
   "source": [
    "**Connect to Intrinio API using your sandbox API key**"
   ]
  },
  {
   "cell_type": "code",
   "execution_count": 4,
   "metadata": {},
   "outputs": [],
   "source": [
    "API_KEY = cfg['intrinio']['app_key']\n",
    "\n",
    "intrinio_sdk.ApiClient().configuration.api_key['api_key'] = API_KEY\n",
    "\n",
    "security_api = intrinio_sdk.SecurityApi()"
   ]
  },
  {
   "cell_type": "markdown",
   "metadata": {},
   "source": [
    "**Intrinio API Request**"
   ]
  },
  {
   "cell_type": "code",
   "execution_count": 5,
   "metadata": {},
   "outputs": [],
   "source": [
    "# str | A Security identifier (Ticker, FIGI, ISIN, CUSIP, Intrinio ID)\n",
    "identifier = 'UBER' \n",
    "\n",
    "# date | Return prices on or after the date (optional)\n",
    "start_date = '2019-10-01' \n",
    "\n",
    "# date | Return prices on or before the date (optional)\n",
    "end_date = '2020-04-01' \n",
    "\n",
    "# str | Return stock prices in the given frequency (optional) (default to daily)\n",
    "frequency = 'daily' \n",
    "\n",
    "# int | The number of results to return (optional) (default to 100)\n",
    "page_size = 100 \n",
    "\n",
    "# str | Gets the next page of data from a previous API call (optional)\n",
    "next_page = ''"
   ]
  },
  {
   "cell_type": "code",
   "execution_count": 6,
   "metadata": {},
   "outputs": [],
   "source": [
    "response = security_api.get_security_stock_prices(identifier,\n",
    "                                                  start_date = start_date,\n",
    "                                                  end_date = end_date)"
   ]
  },
  {
   "cell_type": "code",
   "execution_count": 7,
   "metadata": {},
   "outputs": [
    {
     "data": {
      "text/plain": [
       "{'adj_close': 27.38,\n",
       " 'adj_high': 27.42,\n",
       " 'adj_low': 26.45,\n",
       " 'adj_open': 26.8,\n",
       " 'adj_volume': 65949472.0,\n",
       " 'close': 27.38,\n",
       " 'date': datetime.date(2019, 11, 7),\n",
       " 'frequency': 'daily',\n",
       " 'high': 27.42,\n",
       " 'intraperiod': False,\n",
       " 'low': 26.45,\n",
       " 'open': 26.8,\n",
       " 'volume': 65949472.0}"
      ]
     },
     "execution_count": 7,
     "metadata": {},
     "output_type": "execute_result"
    }
   ],
   "source": [
    "response.stock_prices[-1]"
   ]
  },
  {
   "cell_type": "markdown",
   "metadata": {},
   "source": [
    "**Note that Intrinio APi returns something that looks like a dictionary but it is a different data type**"
   ]
  },
  {
   "cell_type": "code",
   "execution_count": 8,
   "metadata": {},
   "outputs": [
    {
     "data": {
      "text/plain": [
       "intrinio_sdk.models.stock_price_summary.StockPriceSummary"
      ]
     },
     "execution_count": 8,
     "metadata": {},
     "output_type": "execute_result"
    }
   ],
   "source": [
    "type(response.stock_prices[-1])"
   ]
  },
  {
   "cell_type": "code",
   "execution_count": 9,
   "metadata": {},
   "outputs": [],
   "source": [
    "response = [p.to_dict() for p in response.stock_prices]"
   ]
  },
  {
   "cell_type": "code",
   "execution_count": 10,
   "metadata": {},
   "outputs": [
    {
     "data": {
      "text/plain": [
       "(100, 13)"
      ]
     },
     "execution_count": 10,
     "metadata": {},
     "output_type": "execute_result"
    }
   ],
   "source": [
    "uber_df = pd.DataFrame.from_dict(response)\n",
    "uber_df['secid'] = \"UBER\"\n",
    "uber_df.index = pd.DatetimeIndex(uber_df['date'])\n",
    "uber_df = uber_df.drop('date',axis=1)\n",
    "uber_df = uber_df.sort_index()\n",
    "uber_df.shape"
   ]
  },
  {
   "cell_type": "code",
   "execution_count": 11,
   "metadata": {},
   "outputs": [
    {
     "data": {
      "text/html": [
       "<div>\n",
       "<style scoped>\n",
       "    .dataframe tbody tr th:only-of-type {\n",
       "        vertical-align: middle;\n",
       "    }\n",
       "\n",
       "    .dataframe tbody tr th {\n",
       "        vertical-align: top;\n",
       "    }\n",
       "\n",
       "    .dataframe thead th {\n",
       "        text-align: right;\n",
       "    }\n",
       "</style>\n",
       "<table border=\"1\" class=\"dataframe\">\n",
       "  <thead>\n",
       "    <tr style=\"text-align: right;\">\n",
       "      <th></th>\n",
       "      <th>intraperiod</th>\n",
       "      <th>frequency</th>\n",
       "      <th>open</th>\n",
       "      <th>high</th>\n",
       "      <th>low</th>\n",
       "      <th>close</th>\n",
       "      <th>volume</th>\n",
       "      <th>adj_open</th>\n",
       "      <th>adj_high</th>\n",
       "      <th>adj_low</th>\n",
       "      <th>adj_close</th>\n",
       "      <th>adj_volume</th>\n",
       "      <th>secid</th>\n",
       "    </tr>\n",
       "    <tr>\n",
       "      <th>date</th>\n",
       "      <th></th>\n",
       "      <th></th>\n",
       "      <th></th>\n",
       "      <th></th>\n",
       "      <th></th>\n",
       "      <th></th>\n",
       "      <th></th>\n",
       "      <th></th>\n",
       "      <th></th>\n",
       "      <th></th>\n",
       "      <th></th>\n",
       "      <th></th>\n",
       "      <th></th>\n",
       "    </tr>\n",
       "  </thead>\n",
       "  <tbody>\n",
       "    <tr>\n",
       "      <th>2019-11-07</th>\n",
       "      <td>False</td>\n",
       "      <td>daily</td>\n",
       "      <td>26.80</td>\n",
       "      <td>27.42</td>\n",
       "      <td>26.450</td>\n",
       "      <td>27.38</td>\n",
       "      <td>65949472.0</td>\n",
       "      <td>26.80</td>\n",
       "      <td>27.42</td>\n",
       "      <td>26.450</td>\n",
       "      <td>27.38</td>\n",
       "      <td>65949472.0</td>\n",
       "      <td>UBER</td>\n",
       "    </tr>\n",
       "    <tr>\n",
       "      <th>2019-11-08</th>\n",
       "      <td>False</td>\n",
       "      <td>daily</td>\n",
       "      <td>27.48</td>\n",
       "      <td>27.62</td>\n",
       "      <td>26.915</td>\n",
       "      <td>27.01</td>\n",
       "      <td>45263118.0</td>\n",
       "      <td>27.48</td>\n",
       "      <td>27.62</td>\n",
       "      <td>26.915</td>\n",
       "      <td>27.01</td>\n",
       "      <td>45263118.0</td>\n",
       "      <td>UBER</td>\n",
       "    </tr>\n",
       "    <tr>\n",
       "      <th>2019-11-11</th>\n",
       "      <td>False</td>\n",
       "      <td>daily</td>\n",
       "      <td>27.03</td>\n",
       "      <td>27.21</td>\n",
       "      <td>26.230</td>\n",
       "      <td>27.14</td>\n",
       "      <td>41445732.0</td>\n",
       "      <td>27.03</td>\n",
       "      <td>27.21</td>\n",
       "      <td>26.230</td>\n",
       "      <td>27.14</td>\n",
       "      <td>41445732.0</td>\n",
       "      <td>UBER</td>\n",
       "    </tr>\n",
       "    <tr>\n",
       "      <th>2019-11-12</th>\n",
       "      <td>False</td>\n",
       "      <td>daily</td>\n",
       "      <td>27.38</td>\n",
       "      <td>27.66</td>\n",
       "      <td>26.660</td>\n",
       "      <td>26.70</td>\n",
       "      <td>37095389.0</td>\n",
       "      <td>27.38</td>\n",
       "      <td>27.66</td>\n",
       "      <td>26.660</td>\n",
       "      <td>26.70</td>\n",
       "      <td>37095389.0</td>\n",
       "      <td>UBER</td>\n",
       "    </tr>\n",
       "    <tr>\n",
       "      <th>2019-11-13</th>\n",
       "      <td>False</td>\n",
       "      <td>daily</td>\n",
       "      <td>26.47</td>\n",
       "      <td>26.82</td>\n",
       "      <td>26.140</td>\n",
       "      <td>26.71</td>\n",
       "      <td>34512663.0</td>\n",
       "      <td>26.47</td>\n",
       "      <td>26.82</td>\n",
       "      <td>26.140</td>\n",
       "      <td>26.71</td>\n",
       "      <td>34512663.0</td>\n",
       "      <td>UBER</td>\n",
       "    </tr>\n",
       "  </tbody>\n",
       "</table>\n",
       "</div>"
      ],
      "text/plain": [
       "            intraperiod frequency   open   high     low  close      volume  \\\n",
       "date                                                                         \n",
       "2019-11-07        False     daily  26.80  27.42  26.450  27.38  65949472.0   \n",
       "2019-11-08        False     daily  27.48  27.62  26.915  27.01  45263118.0   \n",
       "2019-11-11        False     daily  27.03  27.21  26.230  27.14  41445732.0   \n",
       "2019-11-12        False     daily  27.38  27.66  26.660  26.70  37095389.0   \n",
       "2019-11-13        False     daily  26.47  26.82  26.140  26.71  34512663.0   \n",
       "\n",
       "            adj_open  adj_high  adj_low  adj_close  adj_volume secid  \n",
       "date                                                                  \n",
       "2019-11-07     26.80     27.42   26.450      27.38  65949472.0  UBER  \n",
       "2019-11-08     27.48     27.62   26.915      27.01  45263118.0  UBER  \n",
       "2019-11-11     27.03     27.21   26.230      27.14  41445732.0  UBER  \n",
       "2019-11-12     27.38     27.66   26.660      26.70  37095389.0  UBER  \n",
       "2019-11-13     26.47     26.82   26.140      26.71  34512663.0  UBER  "
      ]
     },
     "execution_count": 11,
     "metadata": {},
     "output_type": "execute_result"
    }
   ],
   "source": [
    "uber_df.head()"
   ]
  },
  {
   "cell_type": "code",
   "execution_count": 12,
   "metadata": {},
   "outputs": [],
   "source": [
    "# str | A Security identifier (Ticker, FIGI, ISIN, CUSIP, Intrinio ID)\n",
    "identifier = 'LYFT' \n",
    "\n",
    "# date | Return prices on or after the date (optional)\n",
    "start_date = '2019-10-01' \n",
    "\n",
    "# date | Return prices on or before the date (optional)\n",
    "end_date = '2020-04-01' \n",
    "\n",
    "# str | Return stock prices in the given frequency (optional) (default to daily)\n",
    "frequency = 'daily' \n",
    "\n",
    "# int | The number of results to return (optional) (default to 100)\n",
    "page_size = 100 \n",
    "\n",
    "# str | Gets the next page of data from a previous API call (optional)\n",
    "next_page = ''"
   ]
  },
  {
   "cell_type": "code",
   "execution_count": 13,
   "metadata": {},
   "outputs": [],
   "source": [
    "response = security_api.get_security_stock_prices(identifier,\n",
    "                                                  start_date = start_date,\n",
    "                                                  end_date = end_date)"
   ]
  },
  {
   "cell_type": "code",
   "execution_count": 14,
   "metadata": {},
   "outputs": [],
   "source": [
    "response = [p.to_dict() for p in response.stock_prices]"
   ]
  },
  {
   "cell_type": "code",
   "execution_count": 15,
   "metadata": {},
   "outputs": [
    {
     "data": {
      "text/plain": [
       "(100, 13)"
      ]
     },
     "execution_count": 15,
     "metadata": {},
     "output_type": "execute_result"
    }
   ],
   "source": [
    "lyft_df = pd.DataFrame.from_dict(response)\n",
    "lyft_df['secid'] = \"LYFT\"\n",
    "lyft_df.index = pd.DatetimeIndex(lyft_df['date'])\n",
    "lyft_df = lyft_df.drop('date',axis=1)\n",
    "lyft_df = lyft_df.sort_index()\n",
    "lyft_df.shape"
   ]
  },
  {
   "cell_type": "code",
   "execution_count": 16,
   "metadata": {},
   "outputs": [
    {
     "data": {
      "text/html": [
       "<div>\n",
       "<style scoped>\n",
       "    .dataframe tbody tr th:only-of-type {\n",
       "        vertical-align: middle;\n",
       "    }\n",
       "\n",
       "    .dataframe tbody tr th {\n",
       "        vertical-align: top;\n",
       "    }\n",
       "\n",
       "    .dataframe thead th {\n",
       "        text-align: right;\n",
       "    }\n",
       "</style>\n",
       "<table border=\"1\" class=\"dataframe\">\n",
       "  <thead>\n",
       "    <tr style=\"text-align: right;\">\n",
       "      <th></th>\n",
       "      <th>intraperiod</th>\n",
       "      <th>frequency</th>\n",
       "      <th>open</th>\n",
       "      <th>high</th>\n",
       "      <th>low</th>\n",
       "      <th>close</th>\n",
       "      <th>volume</th>\n",
       "      <th>adj_open</th>\n",
       "      <th>adj_high</th>\n",
       "      <th>adj_low</th>\n",
       "      <th>adj_close</th>\n",
       "      <th>adj_volume</th>\n",
       "      <th>secid</th>\n",
       "    </tr>\n",
       "    <tr>\n",
       "      <th>date</th>\n",
       "      <th></th>\n",
       "      <th></th>\n",
       "      <th></th>\n",
       "      <th></th>\n",
       "      <th></th>\n",
       "      <th></th>\n",
       "      <th></th>\n",
       "      <th></th>\n",
       "      <th></th>\n",
       "      <th></th>\n",
       "      <th></th>\n",
       "      <th></th>\n",
       "      <th></th>\n",
       "    </tr>\n",
       "  </thead>\n",
       "  <tbody>\n",
       "    <tr>\n",
       "      <th>2019-11-07</th>\n",
       "      <td>False</td>\n",
       "      <td>daily</td>\n",
       "      <td>43.31</td>\n",
       "      <td>43.64</td>\n",
       "      <td>42.27</td>\n",
       "      <td>43.29</td>\n",
       "      <td>6052308.0</td>\n",
       "      <td>43.31</td>\n",
       "      <td>43.64</td>\n",
       "      <td>42.27</td>\n",
       "      <td>43.29</td>\n",
       "      <td>6052308.0</td>\n",
       "      <td>LYFT</td>\n",
       "    </tr>\n",
       "    <tr>\n",
       "      <th>2019-11-08</th>\n",
       "      <td>False</td>\n",
       "      <td>daily</td>\n",
       "      <td>43.23</td>\n",
       "      <td>43.38</td>\n",
       "      <td>42.53</td>\n",
       "      <td>43.23</td>\n",
       "      <td>4927352.0</td>\n",
       "      <td>43.23</td>\n",
       "      <td>43.38</td>\n",
       "      <td>42.53</td>\n",
       "      <td>43.23</td>\n",
       "      <td>4927352.0</td>\n",
       "      <td>LYFT</td>\n",
       "    </tr>\n",
       "    <tr>\n",
       "      <th>2019-11-11</th>\n",
       "      <td>False</td>\n",
       "      <td>daily</td>\n",
       "      <td>42.85</td>\n",
       "      <td>43.01</td>\n",
       "      <td>41.80</td>\n",
       "      <td>42.97</td>\n",
       "      <td>3843314.0</td>\n",
       "      <td>42.85</td>\n",
       "      <td>43.01</td>\n",
       "      <td>41.80</td>\n",
       "      <td>42.97</td>\n",
       "      <td>3843314.0</td>\n",
       "      <td>LYFT</td>\n",
       "    </tr>\n",
       "    <tr>\n",
       "      <th>2019-11-12</th>\n",
       "      <td>False</td>\n",
       "      <td>daily</td>\n",
       "      <td>42.74</td>\n",
       "      <td>43.45</td>\n",
       "      <td>42.20</td>\n",
       "      <td>42.33</td>\n",
       "      <td>4293350.0</td>\n",
       "      <td>42.74</td>\n",
       "      <td>43.45</td>\n",
       "      <td>42.20</td>\n",
       "      <td>42.33</td>\n",
       "      <td>4293350.0</td>\n",
       "      <td>LYFT</td>\n",
       "    </tr>\n",
       "    <tr>\n",
       "      <th>2019-11-13</th>\n",
       "      <td>False</td>\n",
       "      <td>daily</td>\n",
       "      <td>42.20</td>\n",
       "      <td>43.43</td>\n",
       "      <td>42.01</td>\n",
       "      <td>43.30</td>\n",
       "      <td>4028280.0</td>\n",
       "      <td>42.20</td>\n",
       "      <td>43.43</td>\n",
       "      <td>42.01</td>\n",
       "      <td>43.30</td>\n",
       "      <td>4028280.0</td>\n",
       "      <td>LYFT</td>\n",
       "    </tr>\n",
       "  </tbody>\n",
       "</table>\n",
       "</div>"
      ],
      "text/plain": [
       "            intraperiod frequency   open   high    low  close     volume  \\\n",
       "date                                                                       \n",
       "2019-11-07        False     daily  43.31  43.64  42.27  43.29  6052308.0   \n",
       "2019-11-08        False     daily  43.23  43.38  42.53  43.23  4927352.0   \n",
       "2019-11-11        False     daily  42.85  43.01  41.80  42.97  3843314.0   \n",
       "2019-11-12        False     daily  42.74  43.45  42.20  42.33  4293350.0   \n",
       "2019-11-13        False     daily  42.20  43.43  42.01  43.30  4028280.0   \n",
       "\n",
       "            adj_open  adj_high  adj_low  adj_close  adj_volume secid  \n",
       "date                                                                  \n",
       "2019-11-07     43.31     43.64    42.27      43.29   6052308.0  LYFT  \n",
       "2019-11-08     43.23     43.38    42.53      43.23   4927352.0  LYFT  \n",
       "2019-11-11     42.85     43.01    41.80      42.97   3843314.0  LYFT  \n",
       "2019-11-12     42.74     43.45    42.20      42.33   4293350.0  LYFT  \n",
       "2019-11-13     42.20     43.43    42.01      43.30   4028280.0  LYFT  "
      ]
     },
     "execution_count": 16,
     "metadata": {},
     "output_type": "execute_result"
    }
   ],
   "source": [
    "lyft_df.head()"
   ]
  },
  {
   "cell_type": "markdown",
   "metadata": {},
   "source": [
    "**Merge the two stocks datasets**"
   ]
  },
  {
   "cell_type": "code",
   "execution_count": 17,
   "metadata": {},
   "outputs": [
    {
     "data": {
      "text/plain": [
       "(200, 13)"
      ]
     },
     "execution_count": 17,
     "metadata": {},
     "output_type": "execute_result"
    }
   ],
   "source": [
    "rides_share = pd.concat([uber_df,lyft_df])\n",
    "rides_share.shape"
   ]
  },
  {
   "cell_type": "code",
   "execution_count": 18,
   "metadata": {
    "scrolled": true
   },
   "outputs": [
    {
     "data": {
      "text/html": [
       "<div>\n",
       "<style scoped>\n",
       "    .dataframe tbody tr th:only-of-type {\n",
       "        vertical-align: middle;\n",
       "    }\n",
       "\n",
       "    .dataframe tbody tr th {\n",
       "        vertical-align: top;\n",
       "    }\n",
       "\n",
       "    .dataframe thead th {\n",
       "        text-align: right;\n",
       "    }\n",
       "</style>\n",
       "<table border=\"1\" class=\"dataframe\">\n",
       "  <thead>\n",
       "    <tr style=\"text-align: right;\">\n",
       "      <th></th>\n",
       "      <th>intraperiod</th>\n",
       "      <th>frequency</th>\n",
       "      <th>open</th>\n",
       "      <th>high</th>\n",
       "      <th>low</th>\n",
       "      <th>close</th>\n",
       "      <th>volume</th>\n",
       "      <th>adj_open</th>\n",
       "      <th>adj_high</th>\n",
       "      <th>adj_low</th>\n",
       "      <th>adj_close</th>\n",
       "      <th>adj_volume</th>\n",
       "      <th>secid</th>\n",
       "    </tr>\n",
       "    <tr>\n",
       "      <th>date</th>\n",
       "      <th></th>\n",
       "      <th></th>\n",
       "      <th></th>\n",
       "      <th></th>\n",
       "      <th></th>\n",
       "      <th></th>\n",
       "      <th></th>\n",
       "      <th></th>\n",
       "      <th></th>\n",
       "      <th></th>\n",
       "      <th></th>\n",
       "      <th></th>\n",
       "      <th></th>\n",
       "    </tr>\n",
       "  </thead>\n",
       "  <tbody>\n",
       "    <tr>\n",
       "      <th>2019-11-07</th>\n",
       "      <td>False</td>\n",
       "      <td>daily</td>\n",
       "      <td>26.80</td>\n",
       "      <td>27.42</td>\n",
       "      <td>26.450</td>\n",
       "      <td>27.38</td>\n",
       "      <td>65949472.0</td>\n",
       "      <td>26.80</td>\n",
       "      <td>27.42</td>\n",
       "      <td>26.450</td>\n",
       "      <td>27.38</td>\n",
       "      <td>65949472.0</td>\n",
       "      <td>UBER</td>\n",
       "    </tr>\n",
       "    <tr>\n",
       "      <th>2019-11-08</th>\n",
       "      <td>False</td>\n",
       "      <td>daily</td>\n",
       "      <td>27.48</td>\n",
       "      <td>27.62</td>\n",
       "      <td>26.915</td>\n",
       "      <td>27.01</td>\n",
       "      <td>45263118.0</td>\n",
       "      <td>27.48</td>\n",
       "      <td>27.62</td>\n",
       "      <td>26.915</td>\n",
       "      <td>27.01</td>\n",
       "      <td>45263118.0</td>\n",
       "      <td>UBER</td>\n",
       "    </tr>\n",
       "    <tr>\n",
       "      <th>2019-11-11</th>\n",
       "      <td>False</td>\n",
       "      <td>daily</td>\n",
       "      <td>27.03</td>\n",
       "      <td>27.21</td>\n",
       "      <td>26.230</td>\n",
       "      <td>27.14</td>\n",
       "      <td>41445732.0</td>\n",
       "      <td>27.03</td>\n",
       "      <td>27.21</td>\n",
       "      <td>26.230</td>\n",
       "      <td>27.14</td>\n",
       "      <td>41445732.0</td>\n",
       "      <td>UBER</td>\n",
       "    </tr>\n",
       "    <tr>\n",
       "      <th>2019-11-12</th>\n",
       "      <td>False</td>\n",
       "      <td>daily</td>\n",
       "      <td>27.38</td>\n",
       "      <td>27.66</td>\n",
       "      <td>26.660</td>\n",
       "      <td>26.70</td>\n",
       "      <td>37095389.0</td>\n",
       "      <td>27.38</td>\n",
       "      <td>27.66</td>\n",
       "      <td>26.660</td>\n",
       "      <td>26.70</td>\n",
       "      <td>37095389.0</td>\n",
       "      <td>UBER</td>\n",
       "    </tr>\n",
       "    <tr>\n",
       "      <th>2019-11-13</th>\n",
       "      <td>False</td>\n",
       "      <td>daily</td>\n",
       "      <td>26.47</td>\n",
       "      <td>26.82</td>\n",
       "      <td>26.140</td>\n",
       "      <td>26.71</td>\n",
       "      <td>34512663.0</td>\n",
       "      <td>26.47</td>\n",
       "      <td>26.82</td>\n",
       "      <td>26.140</td>\n",
       "      <td>26.71</td>\n",
       "      <td>34512663.0</td>\n",
       "      <td>UBER</td>\n",
       "    </tr>\n",
       "  </tbody>\n",
       "</table>\n",
       "</div>"
      ],
      "text/plain": [
       "            intraperiod frequency   open   high     low  close      volume  \\\n",
       "date                                                                         \n",
       "2019-11-07        False     daily  26.80  27.42  26.450  27.38  65949472.0   \n",
       "2019-11-08        False     daily  27.48  27.62  26.915  27.01  45263118.0   \n",
       "2019-11-11        False     daily  27.03  27.21  26.230  27.14  41445732.0   \n",
       "2019-11-12        False     daily  27.38  27.66  26.660  26.70  37095389.0   \n",
       "2019-11-13        False     daily  26.47  26.82  26.140  26.71  34512663.0   \n",
       "\n",
       "            adj_open  adj_high  adj_low  adj_close  adj_volume secid  \n",
       "date                                                                  \n",
       "2019-11-07     26.80     27.42   26.450      27.38  65949472.0  UBER  \n",
       "2019-11-08     27.48     27.62   26.915      27.01  45263118.0  UBER  \n",
       "2019-11-11     27.03     27.21   26.230      27.14  41445732.0  UBER  \n",
       "2019-11-12     27.38     27.66   26.660      26.70  37095389.0  UBER  \n",
       "2019-11-13     26.47     26.82   26.140      26.71  34512663.0  UBER  "
      ]
     },
     "execution_count": 18,
     "metadata": {},
     "output_type": "execute_result"
    }
   ],
   "source": [
    "rides_share.head()"
   ]
  },
  {
   "cell_type": "markdown",
   "metadata": {},
   "source": [
    "<a id='commonanalyses'></a>\n",
    "## Common Financial Analyses"
   ]
  },
  {
   "cell_type": "markdown",
   "metadata": {},
   "source": [
    "**Calculate Returns**"
   ]
  },
  {
   "cell_type": "code",
   "execution_count": 20,
   "metadata": {},
   "outputs": [],
   "source": [
    "returns = np.log(rides_share['adj_close'] / rides_share['adj_close'].shift(1))\n",
    "rides_share['returns'] = returns"
   ]
  },
  {
   "cell_type": "code",
   "execution_count": 21,
   "metadata": {},
   "outputs": [],
   "source": [
    "#LYFT returns \n",
    "lyft_returns = rides_share[rides_share['secid'] == 'LYFT']['returns']"
   ]
  },
  {
   "cell_type": "code",
   "execution_count": 22,
   "metadata": {},
   "outputs": [],
   "source": [
    "#UBER returns\n",
    "uber_returns = rides_share[rides_share['secid'] == 'UBER']['returns']"
   ]
  },
  {
   "cell_type": "markdown",
   "metadata": {},
   "source": [
    "### Ordinary Least-Squares Regression (OLS)"
   ]
  },
  {
   "cell_type": "markdown",
   "metadata": {},
   "source": [
    "**New DataFrame to hold the two stocks returns and calculate the regression**"
   ]
  },
  {
   "cell_type": "code",
   "execution_count": 23,
   "metadata": {},
   "outputs": [],
   "source": [
    "return_data = pd.concat([uber_returns, lyft_returns], axis=1)[1:]\n",
    "return_data.columns = ['UBER', 'LYFT']"
   ]
  },
  {
   "cell_type": "markdown",
   "metadata": {},
   "source": [
    "** OLS Regression **"
   ]
  },
  {
   "cell_type": "code",
   "execution_count": 24,
   "metadata": {},
   "outputs": [
    {
     "name": "stdout",
     "output_type": "stream",
     "text": [
      "                            OLS Regression Results                            \n",
      "==============================================================================\n",
      "Dep. Variable:                   LYFT   R-squared:                       0.735\n",
      "Model:                            OLS   Adj. R-squared:                  0.732\n",
      "Method:                 Least Squares   F-statistic:                     268.8\n",
      "Date:                Fri, 03 Apr 2020   Prob (F-statistic):           1.03e-29\n",
      "Time:                        15:07:37   Log-Likelihood:                 204.35\n",
      "No. Observations:                  99   AIC:                            -404.7\n",
      "Df Residuals:                      97   BIC:                            -399.5\n",
      "Df Model:                           1                                         \n",
      "Covariance Type:            nonrobust                                         \n",
      "==============================================================================\n",
      "                 coef    std err          t      P>|t|      [0.025      0.975]\n",
      "------------------------------------------------------------------------------\n",
      "const         -0.0055      0.003     -1.767      0.080      -0.012       0.001\n",
      "UBER           0.8785      0.054     16.395      0.000       0.772       0.985\n",
      "==============================================================================\n",
      "Omnibus:                       23.130   Durbin-Watson:                   2.189\n",
      "Prob(Omnibus):                  0.000   Jarque-Bera (JB):               74.722\n",
      "Skew:                          -0.684   Prob(JB):                     5.95e-17\n",
      "Kurtosis:                       7.031   Cond. No.                         17.2\n",
      "==============================================================================\n",
      "\n",
      "Warnings:\n",
      "[1] Standard Errors assume that the covariance matrix of the errors is correctly specified.\n"
     ]
    }
   ],
   "source": [
    "# Add a constant \n",
    "X = sm.add_constant(return_data['UBER'])\n",
    "\n",
    "# Construct the model\n",
    "model = sm.OLS(return_data['LYFT'], X).fit()\n",
    "\n",
    "# Print the summary\n",
    "print(model.summary())"
   ]
  },
  {
   "cell_type": "markdown",
   "metadata": {},
   "source": [
    "**Ride share companies 100 day stock returns**"
   ]
  },
  {
   "cell_type": "code",
   "execution_count": 25,
   "metadata": {},
   "outputs": [
    {
     "data": {
      "image/png": "[encoded data removed]",
      "text/plain": [
       "<Figure size 864x576 with 1 Axes>"
      ]
     },
     "metadata": {
      "needs_background": "light"
     },
     "output_type": "display_data"
    }
   ],
   "source": [
    "plt.figure(figsize=(12,8))\n",
    "plt.plot(return_data['UBER'], return_data['LYFT'], 'r.')\n",
    "\n",
    "ax = plt.axis()\n",
    "x = np.linspace(ax[0], ax[1] + 0.01)\n",
    "\n",
    "plt.plot(x, model.params[0] + model.params[1] * x, 'b', lw=2)\n",
    "\n",
    "plt.grid(True)\n",
    "plt.axis('tight')\n",
    "plt.xlabel('Uber Returns')\n",
    "plt.ylabel('Lyft returns')\n",
    "\n",
    "plt.show()"
   ]
  },
  {
   "cell_type": "markdown",
   "metadata": {},
   "source": [
    "**Ride Share Companies stock 30 day windows correlation**"
   ]
  },
  {
   "cell_type": "code",
   "execution_count": 26,
   "metadata": {},
   "outputs": [
    {
     "data": {
      "image/png": "[encoded data removed]",
      "text/plain": [
       "<Figure size 864x576 with 1 Axes>"
      ]
     },
     "metadata": {
      "needs_background": "light"
     },
     "output_type": "display_data"
    }
   ],
   "source": [
    "plt.figure(figsize=(12,8))\n",
    "return_data['LYFT'].rolling(window=30).corr(return_data['UBER']).plot()\n",
    "plt.show()"
   ]
  },
  {
   "cell_type": "markdown",
   "metadata": {},
   "source": [
    "<a id='tradingstrategy'></a>\n",
    "## Trading Strategy \n",
    "\n",
    "For this exercise we will use only one stock "
   ]
  },
  {
   "cell_type": "markdown",
   "metadata": {},
   "source": [
    "**Established short and long windows parameters based on the number of observations**"
   ]
  },
  {
   "cell_type": "code",
   "execution_count": 27,
   "metadata": {},
   "outputs": [],
   "source": [
    "short_window = 3\n",
    "long_window = 10"
   ]
  },
  {
   "cell_type": "markdown",
   "metadata": {},
   "source": [
    "**Empty `signals` DataFrame with a `signal` column starting at zero**"
   ]
  },
  {
   "cell_type": "code",
   "execution_count": 28,
   "metadata": {},
   "outputs": [],
   "source": [
    "signals = pd.DataFrame(index = uber_df.index)\n",
    "signals['signal'] = 0.0"
   ]
  },
  {
   "cell_type": "markdown",
   "metadata": {},
   "source": [
    "**Simple moving average over the short window**"
   ]
  },
  {
   "cell_type": "code",
   "execution_count": 29,
   "metadata": {},
   "outputs": [],
   "source": [
    "signals['short_mavg'] = uber_df['close'].rolling(window = short_window,\n",
    "                                                 min_periods = 1,\n",
    "                                                 center = False).mean()"
   ]
  },
  {
   "cell_type": "markdown",
   "metadata": {},
   "source": [
    "**Simple moving average over the long window**"
   ]
  },
  {
   "cell_type": "code",
   "execution_count": 30,
   "metadata": {},
   "outputs": [],
   "source": [
    "signals['long_mavg'] = uber_df['close'].rolling(window = long_window,\n",
    "                                                min_periods = 1,\n",
    "                                                center = False).mean()"
   ]
  },
  {
   "cell_type": "markdown",
   "metadata": {},
   "source": [
    "**Determine Trading signal**"
   ]
  },
  {
   "cell_type": "code",
   "execution_count": 31,
   "metadata": {},
   "outputs": [],
   "source": [
    "signals['signal'][short_window:] = np.where(signals['short_mavg'][short_window:] \n",
    "                                            > signals['long_mavg'][short_window:],\n",
    "                                            1.0, 0.0)"
   ]
  },
  {
   "cell_type": "markdown",
   "metadata": {},
   "source": [
    "**Create Trading Orders**"
   ]
  },
  {
   "cell_type": "code",
   "execution_count": 32,
   "metadata": {},
   "outputs": [],
   "source": [
    "signals['positions'] = signals['signal'].diff()\n",
    "signals['positions'][0] = 1"
   ]
  },
  {
   "cell_type": "markdown",
   "metadata": {},
   "source": [
    "**Trading strategy and signals for a 3 day short and 10 long strategy**"
   ]
  },
  {
   "cell_type": "code",
   "execution_count": 33,
   "metadata": {},
   "outputs": [
    {
     "data": {
      "image/png": "[encoded data removed]",
      "text/plain": [
       "<Figure size 864x576 with 1 Axes>"
      ]
     },
     "metadata": {
      "needs_background": "light"
     },
     "output_type": "display_data"
    }
   ],
   "source": [
    "# Initialize the plot figure\n",
    "fig = plt.figure(figsize=(12,8))\n",
    "\n",
    "# Add a subplot and label for y-axis\n",
    "ax1 = fig.add_subplot(111,  ylabel='Price in $')\n",
    "\n",
    "# Plot the closing price\n",
    "uber_df['close'].plot(ax=ax1, color='r', lw=2.)\n",
    "\n",
    "# Plot the short and long moving averages\n",
    "signals[['short_mavg', 'long_mavg']].plot(ax=ax1, lw=2.)\n",
    "\n",
    "# Plot the buy signals\n",
    "ax1.plot(signals.loc[signals.positions == 1.0].index, \n",
    "         signals.short_mavg[signals.positions == 1.0],\n",
    "         '^', markersize=10, color='m')\n",
    "         \n",
    "# Plot the sell signals\n",
    "ax1.plot(signals.loc[signals.positions == -1.0].index, \n",
    "         signals.short_mavg[signals.positions == -1.0],\n",
    "         'v', markersize=10, color='k')\n",
    "         \n",
    "# Show the plot\n",
    "plt.show()"
   ]
  },
  {
   "cell_type": "markdown",
   "metadata": {},
   "source": [
    "<a id='backtesting'></a>\n",
    "## Backtesting \n"
   ]
  },
  {
   "cell_type": "markdown",
   "metadata": {},
   "source": [
    "**Determine the initial capital to invest**"
   ]
  },
  {
   "cell_type": "code",
   "execution_count": 34,
   "metadata": {},
   "outputs": [],
   "source": [
    "initial_capital= float(10000.0)"
   ]
  },
  {
   "cell_type": "markdown",
   "metadata": {},
   "source": [
    "**Empty dataFrame to hold the positions**"
   ]
  },
  {
   "cell_type": "code",
   "execution_count": 35,
   "metadata": {},
   "outputs": [],
   "source": [
    "positions = pd.DataFrame(index = signals.index).fillna(0.0)"
   ]
  },
  {
   "cell_type": "markdown",
   "metadata": {},
   "source": [
    "**Make a Buy order of 500 shares**"
   ]
  },
  {
   "cell_type": "code",
   "execution_count": 36,
   "metadata": {},
   "outputs": [],
   "source": [
    "positions['UBER'] = 500 * signals['signal']"
   ]
  },
  {
   "cell_type": "markdown",
   "metadata": {},
   "source": [
    "**Initialize portfolio with value owned**"
   ]
  },
  {
   "cell_type": "code",
   "execution_count": 37,
   "metadata": {},
   "outputs": [],
   "source": [
    "portfolio = pd.DataFrame(index = positions.index).fillna(0.0)"
   ]
  },
  {
   "cell_type": "markdown",
   "metadata": {},
   "source": [
    "**Keep track of the owned shares**"
   ]
  },
  {
   "cell_type": "code",
   "execution_count": 38,
   "metadata": {},
   "outputs": [],
   "source": [
    "pos_diff = positions.diff()"
   ]
  },
  {
   "cell_type": "markdown",
   "metadata": {},
   "source": [
    "**Add `holdings` to portfolio**"
   ]
  },
  {
   "cell_type": "code",
   "execution_count": 39,
   "metadata": {},
   "outputs": [],
   "source": [
    "portfolio['holdings'] = positions.multiply(uber_df['adj_close'], axis=0)"
   ]
  },
  {
   "cell_type": "markdown",
   "metadata": {},
   "source": [
    "**Calculate remainder `cash` on portfolio**"
   ]
  },
  {
   "cell_type": "code",
   "execution_count": 40,
   "metadata": {},
   "outputs": [],
   "source": [
    "portfolio['cash'] = initial_capital - (pos_diff.multiply(uber_df['adj_close'], \n",
    "                                                         axis=0)).sum(axis=1).cumsum()   "
   ]
  },
  {
   "cell_type": "markdown",
   "metadata": {},
   "source": [
    "**Create a `total` portfolio value column**"
   ]
  },
  {
   "cell_type": "code",
   "execution_count": 41,
   "metadata": {},
   "outputs": [],
   "source": [
    "portfolio['total'] = portfolio['cash'] + portfolio['holdings']"
   ]
  },
  {
   "cell_type": "markdown",
   "metadata": {},
   "source": [
    "**Create a portfolio `returns` column**"
   ]
  },
  {
   "cell_type": "code",
   "execution_count": 42,
   "metadata": {},
   "outputs": [],
   "source": [
    "portfolio['returns'] = portfolio['total'].pct_change()"
   ]
  },
  {
   "cell_type": "code",
   "execution_count": 43,
   "metadata": {},
   "outputs": [],
   "source": [
    "portfolio['signal'] = [ 'short' if i == 0 else 'long' for i in signals['signal']]"
   ]
  },
  {
   "cell_type": "code",
   "execution_count": 44,
   "metadata": {},
   "outputs": [
    {
     "data": {
      "text/html": [
       "<div>\n",
       "<style scoped>\n",
       "    .dataframe tbody tr th:only-of-type {\n",
       "        vertical-align: middle;\n",
       "    }\n",
       "\n",
       "    .dataframe tbody tr th {\n",
       "        vertical-align: top;\n",
       "    }\n",
       "\n",
       "    .dataframe thead th {\n",
       "        text-align: right;\n",
       "    }\n",
       "</style>\n",
       "<table border=\"1\" class=\"dataframe\">\n",
       "  <thead>\n",
       "    <tr style=\"text-align: right;\">\n",
       "      <th></th>\n",
       "      <th>holdings</th>\n",
       "      <th>cash</th>\n",
       "      <th>total</th>\n",
       "      <th>returns</th>\n",
       "      <th>signal</th>\n",
       "    </tr>\n",
       "    <tr>\n",
       "      <th>date</th>\n",
       "      <th></th>\n",
       "      <th></th>\n",
       "      <th></th>\n",
       "      <th></th>\n",
       "      <th></th>\n",
       "    </tr>\n",
       "  </thead>\n",
       "  <tbody>\n",
       "    <tr>\n",
       "      <th>2019-11-07</th>\n",
       "      <td>0.0</td>\n",
       "      <td>10000.0</td>\n",
       "      <td>10000.0</td>\n",
       "      <td>NaN</td>\n",
       "      <td>short</td>\n",
       "    </tr>\n",
       "    <tr>\n",
       "      <th>2019-11-08</th>\n",
       "      <td>0.0</td>\n",
       "      <td>10000.0</td>\n",
       "      <td>10000.0</td>\n",
       "      <td>0.000000</td>\n",
       "      <td>short</td>\n",
       "    </tr>\n",
       "    <tr>\n",
       "      <th>2019-11-11</th>\n",
       "      <td>0.0</td>\n",
       "      <td>10000.0</td>\n",
       "      <td>10000.0</td>\n",
       "      <td>0.000000</td>\n",
       "      <td>short</td>\n",
       "    </tr>\n",
       "    <tr>\n",
       "      <th>2019-11-12</th>\n",
       "      <td>0.0</td>\n",
       "      <td>10000.0</td>\n",
       "      <td>10000.0</td>\n",
       "      <td>0.000000</td>\n",
       "      <td>short</td>\n",
       "    </tr>\n",
       "    <tr>\n",
       "      <th>2019-11-13</th>\n",
       "      <td>0.0</td>\n",
       "      <td>10000.0</td>\n",
       "      <td>10000.0</td>\n",
       "      <td>0.000000</td>\n",
       "      <td>short</td>\n",
       "    </tr>\n",
       "    <tr>\n",
       "      <th>...</th>\n",
       "      <td>...</td>\n",
       "      <td>...</td>\n",
       "      <td>...</td>\n",
       "      <td>...</td>\n",
       "      <td>...</td>\n",
       "    </tr>\n",
       "    <tr>\n",
       "      <th>2020-03-26</th>\n",
       "      <td>14060.0</td>\n",
       "      <td>785.0</td>\n",
       "      <td>14845.0</td>\n",
       "      <td>0.069524</td>\n",
       "      <td>long</td>\n",
       "    </tr>\n",
       "    <tr>\n",
       "      <th>2020-03-27</th>\n",
       "      <td>13640.0</td>\n",
       "      <td>785.0</td>\n",
       "      <td>14425.0</td>\n",
       "      <td>-0.028292</td>\n",
       "      <td>long</td>\n",
       "    </tr>\n",
       "    <tr>\n",
       "      <th>2020-03-30</th>\n",
       "      <td>13915.0</td>\n",
       "      <td>785.0</td>\n",
       "      <td>14700.0</td>\n",
       "      <td>0.019064</td>\n",
       "      <td>long</td>\n",
       "    </tr>\n",
       "    <tr>\n",
       "      <th>2020-03-31</th>\n",
       "      <td>13960.0</td>\n",
       "      <td>785.0</td>\n",
       "      <td>14745.0</td>\n",
       "      <td>0.003061</td>\n",
       "      <td>long</td>\n",
       "    </tr>\n",
       "    <tr>\n",
       "      <th>2020-04-01</th>\n",
       "      <td>12710.0</td>\n",
       "      <td>785.0</td>\n",
       "      <td>13495.0</td>\n",
       "      <td>-0.084774</td>\n",
       "      <td>long</td>\n",
       "    </tr>\n",
       "  </tbody>\n",
       "</table>\n",
       "<p>100 rows × 5 columns</p>\n",
       "</div>"
      ],
      "text/plain": [
       "            holdings     cash    total   returns signal\n",
       "date                                                   \n",
       "2019-11-07       0.0  10000.0  10000.0       NaN  short\n",
       "2019-11-08       0.0  10000.0  10000.0  0.000000  short\n",
       "2019-11-11       0.0  10000.0  10000.0  0.000000  short\n",
       "2019-11-12       0.0  10000.0  10000.0  0.000000  short\n",
       "2019-11-13       0.0  10000.0  10000.0  0.000000  short\n",
       "...              ...      ...      ...       ...    ...\n",
       "2020-03-26   14060.0    785.0  14845.0  0.069524   long\n",
       "2020-03-27   13640.0    785.0  14425.0 -0.028292   long\n",
       "2020-03-30   13915.0    785.0  14700.0  0.019064   long\n",
       "2020-03-31   13960.0    785.0  14745.0  0.003061   long\n",
       "2020-04-01   12710.0    785.0  13495.0 -0.084774   long\n",
       "\n",
       "[100 rows x 5 columns]"
      ]
     },
     "execution_count": 44,
     "metadata": {},
     "output_type": "execute_result"
    }
   ],
   "source": [
    "portfolio"
   ]
  },
  {
   "cell_type": "markdown",
   "metadata": {},
   "source": [
    "**Strategy and signals for a 3 day short and 10 long Portfolio**"
   ]
  },
  {
   "cell_type": "code",
   "execution_count": 45,
   "metadata": {},
   "outputs": [
    {
     "data": {
      "image/png": "[encoded data removed]",
      "text/plain": [
       "<Figure size 864x576 with 1 Axes>"
      ]
     },
     "metadata": {
      "needs_background": "light"
     },
     "output_type": "display_data"
    }
   ],
   "source": [
    "# Initialize the plot figure\n",
    "fig = plt.figure(figsize=(12,8))\n",
    "\n",
    "ax1 = fig.add_subplot(111, ylabel='Portfolio value in $')\n",
    "\n",
    "# Plot the equity curve in dollars\n",
    "portfolio['total'].plot(ax=ax1, lw=2.)\n",
    "\n",
    "# Plot the \"buy\" trades against the equity curve\n",
    "ax1.plot(portfolio.loc[signals.positions == 1.0].index, \n",
    "         portfolio.total[signals.positions == 1.0],\n",
    "         '^', markersize=10, color='m')\n",
    "\n",
    "# Plot the \"sell\" trades against the equity curve\n",
    "ax1.plot(portfolio.loc[signals.positions == -1.0].index, \n",
    "         portfolio.total[signals.positions == -1.0],\n",
    "         'v', markersize=10, color='k')\n",
    "\n",
    "# Show the plot\n",
    "plt.show()"
   ]
  },
  {
   "cell_type": "markdown",
   "metadata": {},
   "source": [
    "<a id='evaluating'></a>\n",
    "## Evaluating The Trading Strategy\n",
    "\n",
    "### Sharpe Ratio"
   ]
  },
  {
   "cell_type": "code",
   "execution_count": 46,
   "metadata": {},
   "outputs": [
    {
     "name": "stdout",
     "output_type": "stream",
     "text": [
      "1.2185662560728119\n"
     ]
    }
   ],
   "source": [
    "# Isolate the returns of your strategy\n",
    "returns = portfolio['returns']\n",
    "\n",
    "# 100 Days Sharpe ratio\n",
    "sharpe_ratio = np.sqrt(100) * (returns.mean() / returns.std())\n",
    "\n",
    "# annualized Sharpe ratio\n",
    "# sharpe_ratio = np.sqrt(252) * (returns.mean() / returns.std())\n",
    "\n",
    "print(sharpe_ratio)"
   ]
  },
  {
   "cell_type": "markdown",
   "metadata": {},
   "source": [
    "**For 100 Trading days - Sharpe Ratio of 1.25-1.75.**\n",
    "\n",
    "**Portfolio Sharpe Ratio: 1.3611338090378045**\n",
    "\n",
    "The level of manager sophistication goes up exponentially from here. Using volatility targeting (also sometimes called intertemporal risk parity) plus all of the above can move your Sharpe ratio above 1.25. Some observers have attributed most hedge fund alpha to this risk management phenomenon. Additionally, using momentum in fixed income and equities boosts returns quite nicely. At this point, leverage is required to realize returns greater than equal to equities."
   ]
  },
  {
   "cell_type": "markdown",
   "metadata": {},
   "source": [
    "**For 252 Trading days - Sharpe Ratio of 1.75-2.25.**\n",
    "\n",
    "**Portfolio Sharpe Ratio: 2.160732935877667**\n",
    "\n",
    "You need a manager who is competent at investing with all of the above techniques, plus futures, mortgage-backed securities, asset-backed securities, interest rate swaps, credit default swaps, and short selling of cash and debt instruments (via the repurchase market) to finance long positions. \n",
    "\n",
    "This is primarily hedge fund stuff. If you're considering investing in these types of strategies, you should try to get a handle on exactly what risks you or your manager is taking and whether the high Sharpe ratio is due to good risk management or due to taking risks that realize infrequently. \n",
    "\n",
    "One benefit of running high Sharpe ratio strategies is it's a lot easier to tell whether your strategies are working or not. If you're losing money, it's usually because your model is wrong, not because you're unlucky. This simplifies your decision making.\n",
    "\n",
    "https://seekingalpha.com/article/4239442-your-sharpe-ratio-is-low-for-reasons-bad-golf"
   ]
  },
  {
   "cell_type": "markdown",
   "metadata": {},
   "source": [
    "### Maximum Drawdown\n",
    "\n",
    "A maximum drawdown (MDD) is the maximum observed loss from a peak to a trough of a portfolio, before a new peak is attained. Maximum drawdown is an indicator of downside risk over a specified time period.\n",
    "\n",
    "https://www.investopedia.com/terms/m/maximum-drawdown-mdd.asp"
   ]
  },
  {
   "cell_type": "code",
   "execution_count": 47,
   "metadata": {},
   "outputs": [],
   "source": [
    "# Define a trailing 12 trading day window\n",
    "max_window = 12"
   ]
  },
  {
   "cell_type": "code",
   "execution_count": 48,
   "metadata": {},
   "outputs": [],
   "source": [
    "# Calculate the max drawdown in the past window days for each day\n",
    "rolling_max = uber_df['adj_close'].rolling(max_window, min_periods=1).max()\n",
    "daily_drawdown = uber_df['adj_close']/rolling_max - 1.0"
   ]
  },
  {
   "cell_type": "code",
   "execution_count": 49,
   "metadata": {},
   "outputs": [],
   "source": [
    "# Calculate the minimum (negative) daily drawdown\n",
    "max_daily_drawdown = daily_drawdown.rolling(max_window, min_periods=1).min()"
   ]
  },
  {
   "cell_type": "code",
   "execution_count": 50,
   "metadata": {},
   "outputs": [
    {
     "data": {
      "image/png": "[encoded data removed]",
      "text/plain": [
       "<Figure size 864x576 with 1 Axes>"
      ]
     },
     "metadata": {
      "needs_background": "light"
     },
     "output_type": "display_data"
    }
   ],
   "source": [
    "fig = plt.figure(figsize=(12,8))\n",
    "\n",
    "# Plot the results\n",
    "daily_drawdown.plot()\n",
    "max_daily_drawdown.plot()\n",
    "\n",
    "# Show the plot\n",
    "plt.show()"
   ]
  },
  {
   "cell_type": "markdown",
   "metadata": {},
   "source": [
    "### Compound Annual Growth Rate (CAGR)\n",
    "\n",
    "**What CAGR Can Tell You**\n",
    "\n",
    "The compound annual growth rate isn't a true return rate, but rather a representational figure. It is essentially a number that describes the rate at which an investment would have grown if it had grown the same rate every year and the profits were reinvested at the end of each year. \n",
    "\n",
    "https://www.investopedia.com/terms/c/cagr.asp"
   ]
  },
  {
   "cell_type": "markdown",
   "metadata": {},
   "source": [
    "**Calculate the CAGR**"
   ]
  },
  {
   "cell_type": "code",
   "execution_count": null,
   "metadata": {},
   "outputs": [],
   "source": [
    "days = (uber_df.index[-1] - uber_df.index[0]).days\n",
    "\n",
    "cagr = ((((uber_df['adj_close'][-1]) / uber_df['adj_close'][1])) ** (365.0/days)) - 1\n",
    "\n",
    "print(cagr)"
   ]
  }
 ],
 "metadata": {
  "hide_input": false,
  "kernelspec": {
   "display_name": "Python 3",
   "language": "python",
   "name": "python3"
  },
  "language_info": {
   "codemirror_mode": {
    "name": "ipython",
    "version": 3
   },
   "file_extension": ".py",
   "mimetype": "text/x-python",
   "name": "python",
   "nbconvert_exporter": "python",
   "pygments_lexer": "ipython3",
   "version": "3.7.6"
  },
  "toc": {
   "nav_menu": {},
   "number_sections": true,
   "sideBar": true,
   "skip_h1_title": false,
   "toc_cell": false,
   "toc_position": {},
   "toc_section_display": "block",
   "toc_window_display": false
  }
 },
 "nbformat": 4,
 "nbformat_minor": 2
}
