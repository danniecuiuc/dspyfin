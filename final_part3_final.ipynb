{
  "cells": [
    {
      "metadata": {
        "collapsed": true
      },
      "cell_type": "markdown",
      "source": "# Advanced Data Science &amp; Python for Finance  <br><br> Final Project <br><br> Part 3 - Trading Strategy and Backtesting\n-----\n\nFIN580-59305 Spring 2020\n\nName: Danni Chen <br>\nNetID: dannic3\n\nMaster of Science in Finance, University of Illinois at Urbana-Champaign.\n\n* https://www.linkedin.com/in/dannie-chen-dc/"
    },
    {
      "metadata": {},
      "cell_type": "markdown",
      "source": "#### Instruction: Part 3 - Trading Strategy and Backtesting - Total Points: 20\nFor this section you will create a trading and backtesting strategy from scratch using pandas and analyze it. Finally, you will use backtrader to backtest a portfolio strategy based on the industry that you selected.\n\n3.1. Use Intrinio API to pull the daily stock prices of all the constituents of your selected industry. Make sure that you have at least 100 trading days.\n\n3.2 Select one company (stock) from your selected industry. In a short paragraph explain why you selected that particular company. For the company that you selected, create a long/short trading strategy. Make sure that you determine appropriate short and long trading windows and plot your strategy.\n\n3.3 Backtest a $100,000 long/short portfolio using Pandas and plot your portfolio value.\n\n3.4 Evaluate your trading strategy, calculate the portfolio sharpe ratio, maximum drawdown and Compound Annual Growth Rate (CAGR). In a short paragraph interpret the results.\n\n3.5 Use backtrader to backtest a portfolio based on the industry that you selected. Make sure that there are executed trades and upload the plot that backtrader generated (use provided notebook)\n\nSubmit a clean and organized notebook and the corresponding dataset answering the questions for this part."
    },
    {
      "metadata": {
        "trusted": true
      },
      "cell_type": "markdown",
      "source": "## 3.2 Select \"Adobe Inc.\" from Application Software Industry for Furthur Analysis\n\nIn a short paragraph explain why you selected that particular company. For the company that you selected, create a long/short trading strategy. Make sure that you determine appropriate short and long trading windows and plot your strategy."
    },
    {
      "metadata": {},
      "cell_type": "markdown",
      "source": "** Find companies meeting the following 3 conditions AT THE SAME TIME:\n<br> 1. percentage price change in 30 days is positive\n<br> 2. percentage price change YTD is positive\n<br> 3. percentage price change in 12 month is positive**"
    },
    {
      "metadata": {
        "trusted": true
      },
      "cell_type": "code",
      "source": "import pandas as pd",
      "execution_count": 18,
      "outputs": []
    },
    {
      "metadata": {
        "trusted": true
      },
      "cell_type": "code",
      "source": "sp1500_df = pd.read_csv(\"../../data/SP1500.csv\")\nsoftware = sp1500_df[sp1500_df['industry']=='Application Software']",
      "execution_count": 19,
      "outputs": []
    },
    {
      "metadata": {
        "trusted": true
      },
      "cell_type": "code",
      "source": "software_good = software[(software['pct_pricechange_30day']>0) & (software['pct_price_change_ytd']>0) & (software['pct_price_change_12_month']>0)]\nsoftware_good",
      "execution_count": 22,
      "outputs": [
        {
          "output_type": "execute_result",
          "execution_count": 22,
          "data": {
            "text/html": "<div>\n<style scoped>\n    .dataframe tbody tr th:only-of-type {\n        vertical-align: middle;\n    }\n\n    .dataframe tbody tr th {\n        vertical-align: top;\n    }\n\n    .dataframe thead th {\n        text-align: right;\n    }\n</style>\n<table border=\"1\" class=\"dataframe\">\n  <thead>\n    <tr style=\"text-align: right;\">\n      <th></th>\n      <th>company</th>\n      <th>ticker</th>\n      <th>price_close</th>\n      <th>pct_price_change_lastday</th>\n      <th>pct_pricechange_30day</th>\n      <th>pct_price_change_ytd</th>\n      <th>pct_price_change_12_month</th>\n      <th>price_earnings_ratio</th>\n      <th>price_bookvalue_ratio</th>\n      <th>marketcap_mm</th>\n      <th>revenue_mm</th>\n      <th>exchange</th>\n      <th>industry</th>\n    </tr>\n  </thead>\n  <tbody>\n    <tr>\n      <th>21</th>\n      <td>Adobe Inc.</td>\n      <td>ADBE</td>\n      <td>343.84</td>\n      <td>-2.77</td>\n      <td>14.15</td>\n      <td>4.25</td>\n      <td>21.35</td>\n      <td>51.99x</td>\n      <td>15.87x</td>\n      <td>165662.40</td>\n      <td>11661.3</td>\n      <td>NasdaqGS</td>\n      <td>Application Software</td>\n    </tr>\n    <tr>\n      <th>214</th>\n      <td>Cadence Design Systems, Inc.</td>\n      <td>CDNS</td>\n      <td>75.84</td>\n      <td>-6.52</td>\n      <td>16.25</td>\n      <td>9.34</td>\n      <td>10.65</td>\n      <td>21.42x</td>\n      <td>9.81x</td>\n      <td>21298.39</td>\n      <td>2377.53</td>\n      <td>NasdaqGS</td>\n      <td>Application Software</td>\n    </tr>\n    <tr>\n      <th>289</th>\n      <td>Citrix Systems, Inc.</td>\n      <td>CTXS</td>\n      <td>142.58</td>\n      <td>-1.68</td>\n      <td>2.47</td>\n      <td>28.57</td>\n      <td>41.48</td>\n      <td>24.90x</td>\n      <td>NM</td>\n      <td>17601.59</td>\n      <td>3152.37</td>\n      <td>NasdaqGS</td>\n      <td>Application Software</td>\n    </tr>\n    <tr>\n      <th>1232</th>\n      <td>Synopsys, Inc.</td>\n      <td>SNPS</td>\n      <td>149.64</td>\n      <td>-4.76</td>\n      <td>18.80</td>\n      <td>7.50</td>\n      <td>24.61</td>\n      <td>48.05x</td>\n      <td>5.42x</td>\n      <td>22479.99</td>\n      <td>3374.67</td>\n      <td>NasdaqGS</td>\n      <td>Application Software</td>\n    </tr>\n    <tr>\n      <th>1358</th>\n      <td>Tyler Technologies, Inc.</td>\n      <td>TYL</td>\n      <td>314.78</td>\n      <td>-1.84</td>\n      <td>7.96</td>\n      <td>4.92</td>\n      <td>39.34</td>\n      <td>75.79x</td>\n      <td>7.31x</td>\n      <td>12516.17</td>\n      <td>1115.9</td>\n      <td>NYSE</td>\n      <td>Application Software</td>\n    </tr>\n  </tbody>\n</table>\n</div>",
            "text/plain": "                           company ticker  price_close  \\\n21                      Adobe Inc.   ADBE       343.84   \n214   Cadence Design Systems, Inc.   CDNS        75.84   \n289           Citrix Systems, Inc.   CTXS       142.58   \n1232                Synopsys, Inc.   SNPS       149.64   \n1358      Tyler Technologies, Inc.    TYL       314.78   \n\n      pct_price_change_lastday  pct_pricechange_30day  pct_price_change_ytd  \\\n21                       -2.77                  14.15                  4.25   \n214                      -6.52                  16.25                  9.34   \n289                      -1.68                   2.47                 28.57   \n1232                     -4.76                  18.80                  7.50   \n1358                     -1.84                   7.96                  4.92   \n\n      pct_price_change_12_month price_earnings_ratio price_bookvalue_ratio  \\\n21                        21.35               51.99x                15.87x   \n214                       10.65               21.42x                 9.81x   \n289                       41.48               24.90x                    NM   \n1232                      24.61               48.05x                 5.42x   \n1358                      39.34               75.79x                 7.31x   \n\n      marketcap_mm revenue_mm  exchange              industry  \n21       165662.40    11661.3  NasdaqGS  Application Software  \n214       21298.39    2377.53  NasdaqGS  Application Software  \n289       17601.59    3152.37  NasdaqGS  Application Software  \n1232      22479.99    3374.67  NasdaqGS  Application Software  \n1358      12516.17     1115.9      NYSE  Application Software  "
          },
          "metadata": {}
        }
      ]
    },
    {
      "metadata": {},
      "cell_type": "markdown",
      "source": "### Reason to Select Adobe Inc. : \n** Adobe is one of the five companies (listed above) which have good performance in both long term and short term, especially under this pandemic situation. This could be proved by the fact that the percentage price change of Adobe in 30 days, YTD, and in 12 months are 14.15%, 4.25%, and 21.35% repectively, which are all POSITIVE. <br>Although this year COVID-19 negatively affected many companies, Adobe still have positive returns year to date and within a month. So it might be regarded as a defensive business, which could still perform good even in bad economic situations. This might due to its price lies on a good fundamental basis and business nature. As we can see, the 12 month percentage change in price is 21.35, which is pretty high, implying that Adobe is doing good in long-run basis. <br>Also, the PE ratio of Adobe is 51.99x. In comparison, the 5 companies with good performance listed above have PE ratios from 21.42x to 75.79x. The current PE ratio of Adobe is good, which shows that investors are expecting high growth rates of Adobe in the future. **"
    },
    {
      "metadata": {
        "trusted": true
      },
      "cell_type": "code",
      "source": "",
      "execution_count": null,
      "outputs": []
    }
  ],
  "metadata": {
    "kernelspec": {
      "name": "python36",
      "display_name": "Python 3.6",
      "language": "python"
    },
    "language_info": {
      "mimetype": "text/x-python",
      "nbconvert_exporter": "python",
      "name": "python",
      "pygments_lexer": "ipython3",
      "version": "3.6.6",
      "file_extension": ".py",
      "codemirror_mode": {
        "version": 3,
        "name": "ipython"
      }
    }
  },
  "nbformat": 4,
  "nbformat_minor": 2
}