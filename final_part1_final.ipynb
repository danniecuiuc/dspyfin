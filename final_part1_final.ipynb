{
  "cells": [
    {
      "metadata": {},
      "cell_type": "markdown",
      "source": "#### Instruction: Part 1 - Data Preparation and Exploration - Total Points: 20\nFor this part, you will be using Capitaliq.com to download the dataset as an excel file and clean it on Jupyter notebooks.\n\n1.1 Download the constituents of the S&P 1500 using Capital IQ. \n\n1.2 Clean and organize the Excel file that you acquire from Capital IQ. Create a pandas data frame and save the clean file as sp1500.csv\n\n1.3 Determine how many constituents and industries are part of the S&P 1500. Before dropping NAs and after dropping NAs.\n\n1.4 Determine the top 5 worst performing industries and top 5 best performing industries.\n\n1.5 Create a new data frame for the worst industry and a new data frame for the best industry both based on % Price Change [YTD]. For each of these new data frames, use the % Price Change [30 Day] to plot the top five ranking for worst and best performance constituents.\n\nSubmit a clean and organized notebook and the corresponding dataset answering the questions for this part."
    },
    {
      "metadata": {
        "collapsed": true
      },
      "cell_type": "markdown",
      "source": "# Advanced Data Science &amp; Python for Finance  <br><br> Final Project <br><br> Part 1 - Data Preparation and Exploration\n-----\n\nFIN580-59305 Spring 2020\n\nName: Danni Chen <br>\nNetID: dannic3\n\nMaster of Science in Finance, University of Illinois at Urbana-Champaign.\n\n* https://www.linkedin.com/in/dannie-chen-dc/"
    },
    {
      "metadata": {},
      "cell_type": "markdown",
      "source": "## Packages and Settings"
    },
    {
      "metadata": {
        "trusted": true
      },
      "cell_type": "code",
      "source": "import pandas as pd",
      "execution_count": 183,
      "outputs": []
    },
    {
      "metadata": {},
      "cell_type": "markdown",
      "source": "## 1.1 Download and Read the SP1500 Constituents Data\n#### Capital IQ - S&P Composite 1500 (^SP1500) > Constituents"
    },
    {
      "metadata": {
        "trusted": true
      },
      "cell_type": "code",
      "source": "sp_df = pd.read_excel(\"../../data/SP1500.xls\", skiprows = 14, skipfooter = 12)",
      "execution_count": 184,
      "outputs": []
    },
    {
      "metadata": {
        "trusted": true
      },
      "cell_type": "code",
      "source": "sp_df.head()",
      "execution_count": 185,
      "outputs": [
        {
          "output_type": "execute_result",
          "execution_count": 185,
          "data": {
            "text/html": "<div>\n<style scoped>\n    .dataframe tbody tr th:only-of-type {\n        vertical-align: middle;\n    }\n\n    .dataframe tbody tr th {\n        vertical-align: top;\n    }\n\n    .dataframe thead th {\n        text-align: right;\n    }\n</style>\n<table border=\"1\" class=\"dataframe\">\n  <thead>\n    <tr style=\"text-align: right;\">\n      <th></th>\n      <th>Company Name</th>\n      <th>Exchange:Ticker</th>\n      <th>Currency</th>\n      <th>Market Cap (mm) [Latest]*†</th>\n      <th>Revenue (mm)</th>\n      <th>% Price Change [Last Day]</th>\n      <th>% Price Change [30 Day]</th>\n      <th>% Price Change [YTD]</th>\n      <th>% Price Change [12 Month]</th>\n      <th>Price Close</th>\n      <th>P/E*†</th>\n      <th>P/BV*†</th>\n      <th>Primary Industry</th>\n    </tr>\n  </thead>\n  <tbody>\n    <tr>\n      <th>0</th>\n      <td>3D Systems Corporation</td>\n      <td>NYSE:DDD</td>\n      <td>USD</td>\n      <td>923.60</td>\n      <td>629.09</td>\n      <td>(8.48%)</td>\n      <td>17.37%</td>\n      <td>(11.20%)</td>\n      <td>(26.91%)</td>\n      <td>7.77</td>\n      <td>NM</td>\n      <td>1.75x</td>\n      <td>Technology Hardware, Storage and Peripherals</td>\n    </tr>\n    <tr>\n      <th>1</th>\n      <td>3M Company</td>\n      <td>NYSE:MMM</td>\n      <td>USD</td>\n      <td>85474.18</td>\n      <td>32348</td>\n      <td>(2.19%)</td>\n      <td>11.61%</td>\n      <td>(15.77%)</td>\n      <td>(20.14%)</td>\n      <td>148.60</td>\n      <td>17.47x</td>\n      <td>8.42x</td>\n      <td>Industrial Conglomerates</td>\n    </tr>\n    <tr>\n      <th>2</th>\n      <td>8x8, Inc.</td>\n      <td>NYSE:EGHT</td>\n      <td>USD</td>\n      <td>1628.06</td>\n      <td>418.53</td>\n      <td>(6.31%)</td>\n      <td>23.47%</td>\n      <td>(13.17%)</td>\n      <td>(32.12%)</td>\n      <td>15.89</td>\n      <td>NM</td>\n      <td>7.30x</td>\n      <td>Application Software</td>\n    </tr>\n    <tr>\n      <th>3</th>\n      <td>A. O. Smith Corporation</td>\n      <td>NYSE:AOS</td>\n      <td>USD</td>\n      <td>6747.51</td>\n      <td>2992.7</td>\n      <td>(1.72%)</td>\n      <td>16.96%</td>\n      <td>(12.57%)</td>\n      <td>(20.67%)</td>\n      <td>41.65</td>\n      <td>18.75x</td>\n      <td>4.06x</td>\n      <td>Building Products</td>\n    </tr>\n    <tr>\n      <th>4</th>\n      <td>AAON, Inc.</td>\n      <td>NasdaqGS:AAON</td>\n      <td>USD</td>\n      <td>2363.66</td>\n      <td>469.33</td>\n      <td>(4.68%)</td>\n      <td>(3.14%)</td>\n      <td>(8.10%)</td>\n      <td>(8.94%)</td>\n      <td>45.41</td>\n      <td>44.47x</td>\n      <td>8.15x</td>\n      <td>Building Products</td>\n    </tr>\n  </tbody>\n</table>\n</div>",
            "text/plain": "              Company Name Exchange:Ticker Currency  \\\n0   3D Systems Corporation        NYSE:DDD      USD   \n1               3M Company        NYSE:MMM      USD   \n2                8x8, Inc.       NYSE:EGHT      USD   \n3  A. O. Smith Corporation        NYSE:AOS      USD   \n4               AAON, Inc.   NasdaqGS:AAON      USD   \n\n   Market Cap (mm) [Latest]*† Revenue (mm) % Price Change [Last Day]  \\\n0                      923.60       629.09                   (8.48%)   \n1                    85474.18        32348                   (2.19%)   \n2                     1628.06       418.53                   (6.31%)   \n3                     6747.51       2992.7                   (1.72%)   \n4                     2363.66       469.33                   (4.68%)   \n\n  % Price Change [30 Day] % Price Change [YTD] % Price Change [12 Month]  \\\n0                  17.37%             (11.20%)                  (26.91%)   \n1                  11.61%             (15.77%)                  (20.14%)   \n2                  23.47%             (13.17%)                  (32.12%)   \n3                  16.96%             (12.57%)                  (20.67%)   \n4                 (3.14%)              (8.10%)                   (8.94%)   \n\n   Price Close   P/E*† P/BV*†                              Primary Industry  \n0         7.77      NM  1.75x  Technology Hardware, Storage and Peripherals  \n1       148.60  17.47x  8.42x                      Industrial Conglomerates  \n2        15.89      NM  7.30x                          Application Software  \n3        41.65  18.75x  4.06x                             Building Products  \n4        45.41  44.47x  8.15x                             Building Products  "
          },
          "metadata": {}
        }
      ]
    },
    {
      "metadata": {
        "trusted": true
      },
      "cell_type": "code",
      "source": "sp_df.tail()",
      "execution_count": 138,
      "outputs": [
        {
          "output_type": "execute_result",
          "execution_count": 138,
          "data": {
            "text/html": "<div>\n<style scoped>\n    .dataframe tbody tr th:only-of-type {\n        vertical-align: middle;\n    }\n\n    .dataframe tbody tr th {\n        vertical-align: top;\n    }\n\n    .dataframe thead th {\n        text-align: right;\n    }\n</style>\n<table border=\"1\" class=\"dataframe\">\n  <thead>\n    <tr style=\"text-align: right;\">\n      <th></th>\n      <th>Company Name</th>\n      <th>Exchange:Ticker</th>\n      <th>Currency</th>\n      <th>Market Cap (mm) [Latest]*†</th>\n      <th>Revenue (mm)</th>\n      <th>% Price Change [Last Day]</th>\n      <th>% Price Change [30 Day]</th>\n      <th>% Price Change [YTD]</th>\n      <th>% Price Change [12 Month]</th>\n      <th>Price Close</th>\n      <th>P/E*†</th>\n      <th>P/BV*†</th>\n      <th>Primary Industry</th>\n    </tr>\n  </thead>\n  <tbody>\n    <tr>\n      <th>1501</th>\n      <td>Zebra Technologies Corporation</td>\n      <td>NasdaqGS:ZBRA</td>\n      <td>USD</td>\n      <td>11974.80</td>\n      <td>4471</td>\n      <td>(1.79%)</td>\n      <td>27.82%</td>\n      <td>(11.70%)</td>\n      <td>9.96%</td>\n      <td>225.55</td>\n      <td>23.78x</td>\n      <td>6.93x</td>\n      <td>Electronic Equipment and Instruments</td>\n    </tr>\n    <tr>\n      <th>1502</th>\n      <td>Zimmer Biomet Holdings, Inc.</td>\n      <td>NYSE:ZBH</td>\n      <td>USD</td>\n      <td>24026.74</td>\n      <td>7982.2</td>\n      <td>(2.88%)</td>\n      <td>29.70%</td>\n      <td>(22.33%)</td>\n      <td>(4.10%)</td>\n      <td>116.25</td>\n      <td>21.21x</td>\n      <td>1.93x</td>\n      <td>Health Care Equipment</td>\n    </tr>\n    <tr>\n      <th>1503</th>\n      <td>Zions Bancorporation, National Association</td>\n      <td>NasdaqGS:ZION</td>\n      <td>USD</td>\n      <td>5063.03</td>\n      <td>2533</td>\n      <td>(2.25%)</td>\n      <td>22.04%</td>\n      <td>(40.49%)</td>\n      <td>(36.39%)</td>\n      <td>30.90</td>\n      <td>9.59x</td>\n      <td>0.73x</td>\n      <td>Regional Banks</td>\n    </tr>\n    <tr>\n      <th>1504</th>\n      <td>Zoetis Inc.</td>\n      <td>NYSE:ZTS</td>\n      <td>USD</td>\n      <td>60565.33</td>\n      <td>6260</td>\n      <td>(1.38%)</td>\n      <td>13.95%</td>\n      <td>(3.64%)</td>\n      <td>25.29%</td>\n      <td>127.53</td>\n      <td>40.89x</td>\n      <td>22.39x</td>\n      <td>Pharmaceuticals</td>\n    </tr>\n    <tr>\n      <th>1505</th>\n      <td>Zumiez Inc.</td>\n      <td>NasdaqGS:ZUMZ</td>\n      <td>USD</td>\n      <td>540.98</td>\n      <td>1034.13</td>\n      <td>0.71%</td>\n      <td>42.98%</td>\n      <td>(38.36%)</td>\n      <td>(16.35%)</td>\n      <td>21.29</td>\n      <td>8.00x</td>\n      <td>1.18x</td>\n      <td>Apparel Retail</td>\n    </tr>\n  </tbody>\n</table>\n</div>",
            "text/plain": "                                    Company Name Exchange:Ticker Currency  \\\n1501              Zebra Technologies Corporation   NasdaqGS:ZBRA      USD   \n1502                Zimmer Biomet Holdings, Inc.        NYSE:ZBH      USD   \n1503  Zions Bancorporation, National Association   NasdaqGS:ZION      USD   \n1504                                 Zoetis Inc.        NYSE:ZTS      USD   \n1505                                 Zumiez Inc.   NasdaqGS:ZUMZ      USD   \n\n      Market Cap (mm) [Latest]*† Revenue (mm) % Price Change [Last Day]  \\\n1501                    11974.80         4471                   (1.79%)   \n1502                    24026.74       7982.2                   (2.88%)   \n1503                     5063.03         2533                   (2.25%)   \n1504                    60565.33         6260                   (1.38%)   \n1505                      540.98      1034.13                     0.71%   \n\n     % Price Change [30 Day] % Price Change [YTD] % Price Change [12 Month]  \\\n1501                  27.82%             (11.70%)                     9.96%   \n1502                  29.70%             (22.33%)                   (4.10%)   \n1503                  22.04%             (40.49%)                  (36.39%)   \n1504                  13.95%              (3.64%)                    25.29%   \n1505                  42.98%             (38.36%)                  (16.35%)   \n\n      Price Close   P/E*†  P/BV*†                      Primary Industry  \n1501       225.55  23.78x   6.93x  Electronic Equipment and Instruments  \n1502       116.25  21.21x   1.93x                 Health Care Equipment  \n1503        30.90   9.59x   0.73x                        Regional Banks  \n1504       127.53  40.89x  22.39x                       Pharmaceuticals  \n1505        21.29   8.00x   1.18x                        Apparel Retail  "
          },
          "metadata": {}
        }
      ]
    },
    {
      "metadata": {},
      "cell_type": "markdown",
      "source": "## 1.2 Clean the Data, Create the DataFrame, and Save CSV File"
    },
    {
      "metadata": {
        "trusted": true
      },
      "cell_type": "code",
      "source": "sp_df.columns",
      "execution_count": 139,
      "outputs": [
        {
          "output_type": "execute_result",
          "execution_count": 139,
          "data": {
            "text/plain": "Index(['Company Name', 'Exchange:Ticker', 'Currency',\n       'Market Cap (mm) [Latest]*†', 'Revenue (mm)',\n       '% Price Change [Last Day]', '% Price Change [30 Day]',\n       '% Price Change [YTD]', '% Price Change [12 Month]', 'Price Close',\n       'P/E*†', 'P/BV*†', 'Primary Industry'],\n      dtype='object')"
          },
          "metadata": {}
        }
      ]
    },
    {
      "metadata": {
        "trusted": true
      },
      "cell_type": "code",
      "source": "sp_df.columns = ['company', 'Exchange:Ticker', 'currency',\n                 'marketcap_mm', 'revenue_mm', 'pct_price_change_lastday',\n                 'pct_pricechange_30day', 'pct_price_change_ytd', 'pct_price_change_12_month', \n                 'price_close', 'price_earnings_ratio', 'price_bookvalue_ratio', 'industry']",
      "execution_count": 140,
      "outputs": []
    },
    {
      "metadata": {
        "trusted": true
      },
      "cell_type": "code",
      "source": "sp_df['exchange'] = sp_df['Exchange:Ticker'].apply(lambda i:i.split(\":\")[0])\nsp_df['ticker']  = sp_df['Exchange:Ticker'].apply(lambda i:i.split(\":\")[1])",
      "execution_count": 141,
      "outputs": []
    },
    {
      "metadata": {
        "trusted": true
      },
      "cell_type": "code",
      "source": "sp_df = sp_df.drop(columns=['Exchange:Ticker','currency'])\nsp_df.columns",
      "execution_count": 142,
      "outputs": [
        {
          "output_type": "execute_result",
          "execution_count": 142,
          "data": {
            "text/plain": "Index(['company', 'marketcap_mm', 'revenue_mm', 'pct_price_change_lastday',\n       'pct_pricechange_30day', 'pct_price_change_ytd',\n       'pct_price_change_12_month', 'price_close', 'price_earnings_ratio',\n       'price_bookvalue_ratio', 'industry', 'exchange', 'ticker'],\n      dtype='object')"
          },
          "metadata": {}
        }
      ]
    },
    {
      "metadata": {
        "trusted": true
      },
      "cell_type": "code",
      "source": "sp_df = sp_df[['company','ticker', 'price_close', 'pct_price_change_lastday', \n               'pct_pricechange_30day', 'pct_price_change_ytd', 'pct_price_change_12_month',\n               'price_earnings_ratio', 'price_bookvalue_ratio', 'marketcap_mm', \n               'revenue_mm','exchange', 'industry']]",
      "execution_count": 143,
      "outputs": []
    },
    {
      "metadata": {
        "trusted": true
      },
      "cell_type": "code",
      "source": "pct_price_change_lastday = sp_df['pct_price_change_lastday'].apply(lambda x: x.replace('-', \"\"))\npct_price_change_lastday = pct_price_change_lastday.apply(lambda x: x.replace('(', '-'))\npct_price_change_lastday = pct_price_change_lastday.apply(lambda x: x.replace(')', ''))\npct_price_change_lastday = pct_price_change_lastday.apply(lambda x: x.replace('%', ''))\npct_price_change_lastday = pd.to_numeric(pct_price_change_lastday)\n\npct_pricechange_30day = sp_df['pct_pricechange_30day'].apply(lambda x: x.replace('-', \"\"))\npct_pricechange_30day = pct_pricechange_30day.apply(lambda x: x.replace('(', '-'))\npct_pricechange_30day = pct_pricechange_30day.apply(lambda x: x.replace(')', ''))\npct_pricechange_30day = pct_pricechange_30day.apply(lambda x: x.replace('%', ''))\npct_pricechange_30day = pd.to_numeric(pct_pricechange_30day)\n\npct_price_change_ytd = sp_df['pct_price_change_ytd'].apply(lambda x: x.replace('-', \"\"))\npct_price_change_ytd = pct_price_change_ytd.apply(lambda x: x.replace('(', '-'))\npct_price_change_ytd = pct_price_change_ytd.apply(lambda x: x.replace(')', ''))\npct_price_change_ytd = pct_price_change_ytd.apply(lambda x: x.replace('%', ''))\npct_price_change_ytd = pd.to_numeric(pct_price_change_ytd)\n\npct_price_change_12_month = sp_df['pct_price_change_12_month'].apply(lambda x: x.replace('-', \"\"))\npct_price_change_12_month = pct_price_change_12_month.apply(lambda x: x.replace('(', '-'))\npct_price_change_12_month = pct_price_change_12_month.apply(lambda x: x.replace(')', ''))\npct_price_change_12_month = pct_price_change_12_month.apply(lambda x: x.replace('%', ''))\npct_price_change_12_month = pd.to_numeric(pct_price_change_12_month)",
      "execution_count": 144,
      "outputs": []
    },
    {
      "metadata": {
        "trusted": true
      },
      "cell_type": "code",
      "source": "sp_df['pct_price_change_lastday'] = pct_price_change_lastday\nsp_df['pct_pricechange_30day'] = pct_pricechange_30day\nsp_df['pct_price_change_ytd'] = pct_price_change_ytd\nsp_df['pct_price_change_12_month'] = pct_price_change_12_month",
      "execution_count": 145,
      "outputs": []
    },
    {
      "metadata": {},
      "cell_type": "markdown",
      "source": "#### Drop the NA rows <br> Notice here: sp_df is the dataframe before dropping NAs, and sp_df_clean is the datafram after dropping NAs."
    },
    {
      "metadata": {
        "trusted": true
      },
      "cell_type": "code",
      "source": "sp_df_clean = sp_df.dropna()\nsp_df_clean.shape",
      "execution_count": 170,
      "outputs": [
        {
          "output_type": "execute_result",
          "execution_count": 170,
          "data": {
            "text/plain": "(1498, 13)"
          },
          "metadata": {}
        }
      ]
    },
    {
      "metadata": {},
      "cell_type": "markdown",
      "source": "**Save final dataframe to csv**"
    },
    {
      "metadata": {
        "trusted": true
      },
      "cell_type": "code",
      "source": "sp_df_clean.to_csv(\"../../data/SP1500.csv\", index = False)",
      "execution_count": 182,
      "outputs": []
    },
    {
      "metadata": {},
      "cell_type": "markdown",
      "source": "** Have a look at the cleaned dataset **"
    },
    {
      "metadata": {
        "trusted": true
      },
      "cell_type": "code",
      "source": "sp_df_clean.head()",
      "execution_count": 172,
      "outputs": [
        {
          "output_type": "execute_result",
          "execution_count": 172,
          "data": {
            "text/html": "<div>\n<style scoped>\n    .dataframe tbody tr th:only-of-type {\n        vertical-align: middle;\n    }\n\n    .dataframe tbody tr th {\n        vertical-align: top;\n    }\n\n    .dataframe thead th {\n        text-align: right;\n    }\n</style>\n<table border=\"1\" class=\"dataframe\">\n  <thead>\n    <tr style=\"text-align: right;\">\n      <th></th>\n      <th>company</th>\n      <th>ticker</th>\n      <th>price_close</th>\n      <th>pct_price_change_lastday</th>\n      <th>pct_pricechange_30day</th>\n      <th>pct_price_change_ytd</th>\n      <th>pct_price_change_12_month</th>\n      <th>price_earnings_ratio</th>\n      <th>price_bookvalue_ratio</th>\n      <th>marketcap_mm</th>\n      <th>revenue_mm</th>\n      <th>exchange</th>\n      <th>industry</th>\n    </tr>\n  </thead>\n  <tbody>\n    <tr>\n      <th>0</th>\n      <td>3D Systems Corporation</td>\n      <td>DDD</td>\n      <td>7.77</td>\n      <td>-8.48</td>\n      <td>17.37</td>\n      <td>-11.20</td>\n      <td>-26.91</td>\n      <td>NM</td>\n      <td>1.75x</td>\n      <td>923.60</td>\n      <td>629.09</td>\n      <td>NYSE</td>\n      <td>Technology Hardware, Storage and Peripherals</td>\n    </tr>\n    <tr>\n      <th>1</th>\n      <td>3M Company</td>\n      <td>MMM</td>\n      <td>148.60</td>\n      <td>-2.19</td>\n      <td>11.61</td>\n      <td>-15.77</td>\n      <td>-20.14</td>\n      <td>17.47x</td>\n      <td>8.42x</td>\n      <td>85474.18</td>\n      <td>32348</td>\n      <td>NYSE</td>\n      <td>Industrial Conglomerates</td>\n    </tr>\n    <tr>\n      <th>2</th>\n      <td>8x8, Inc.</td>\n      <td>EGHT</td>\n      <td>15.89</td>\n      <td>-6.31</td>\n      <td>23.47</td>\n      <td>-13.17</td>\n      <td>-32.12</td>\n      <td>NM</td>\n      <td>7.30x</td>\n      <td>1628.06</td>\n      <td>418.53</td>\n      <td>NYSE</td>\n      <td>Application Software</td>\n    </tr>\n    <tr>\n      <th>3</th>\n      <td>A. O. Smith Corporation</td>\n      <td>AOS</td>\n      <td>41.65</td>\n      <td>-1.72</td>\n      <td>16.96</td>\n      <td>-12.57</td>\n      <td>-20.67</td>\n      <td>18.75x</td>\n      <td>4.06x</td>\n      <td>6747.51</td>\n      <td>2992.7</td>\n      <td>NYSE</td>\n      <td>Building Products</td>\n    </tr>\n    <tr>\n      <th>4</th>\n      <td>AAON, Inc.</td>\n      <td>AAON</td>\n      <td>45.41</td>\n      <td>-4.68</td>\n      <td>-3.14</td>\n      <td>-8.10</td>\n      <td>-8.94</td>\n      <td>44.47x</td>\n      <td>8.15x</td>\n      <td>2363.66</td>\n      <td>469.33</td>\n      <td>NasdaqGS</td>\n      <td>Building Products</td>\n    </tr>\n  </tbody>\n</table>\n</div>",
            "text/plain": "                   company ticker  price_close  pct_price_change_lastday  \\\n0   3D Systems Corporation    DDD         7.77                     -8.48   \n1               3M Company    MMM       148.60                     -2.19   \n2                8x8, Inc.   EGHT        15.89                     -6.31   \n3  A. O. Smith Corporation    AOS        41.65                     -1.72   \n4               AAON, Inc.   AAON        45.41                     -4.68   \n\n   pct_pricechange_30day  pct_price_change_ytd  pct_price_change_12_month  \\\n0                  17.37                -11.20                     -26.91   \n1                  11.61                -15.77                     -20.14   \n2                  23.47                -13.17                     -32.12   \n3                  16.96                -12.57                     -20.67   \n4                  -3.14                 -8.10                      -8.94   \n\n  price_earnings_ratio price_bookvalue_ratio  marketcap_mm revenue_mm  \\\n0                   NM                 1.75x        923.60     629.09   \n1               17.47x                 8.42x      85474.18      32348   \n2                   NM                 7.30x       1628.06     418.53   \n3               18.75x                 4.06x       6747.51     2992.7   \n4               44.47x                 8.15x       2363.66     469.33   \n\n   exchange                                      industry  \n0      NYSE  Technology Hardware, Storage and Peripherals  \n1      NYSE                      Industrial Conglomerates  \n2      NYSE                          Application Software  \n3      NYSE                             Building Products  \n4  NasdaqGS                             Building Products  "
          },
          "metadata": {}
        }
      ]
    },
    {
      "metadata": {},
      "cell_type": "markdown",
      "source": "## 1.3 How many constituents and industries are part of the S&P 1500?\n### Number of constituents and industries in S&P 1500 - BEFORE dropping NAs"
    },
    {
      "metadata": {
        "trusted": true
      },
      "cell_type": "code",
      "source": "sp_df.shape",
      "execution_count": 173,
      "outputs": [
        {
          "output_type": "execute_result",
          "execution_count": 173,
          "data": {
            "text/plain": "(1506, 13)"
          },
          "metadata": {}
        }
      ]
    },
    {
      "metadata": {
        "trusted": true
      },
      "cell_type": "code",
      "source": "len(sp_df['industry'].unique())",
      "execution_count": 174,
      "outputs": [
        {
          "output_type": "execute_result",
          "execution_count": 174,
          "data": {
            "text/plain": "148"
          },
          "metadata": {}
        }
      ]
    },
    {
      "metadata": {},
      "cell_type": "markdown",
      "source": "### Number of constituents and industries in S&P 1500 - AFTER dropping NAs"
    },
    {
      "metadata": {
        "trusted": true
      },
      "cell_type": "code",
      "source": "sp_df_clean.shape",
      "execution_count": 175,
      "outputs": [
        {
          "output_type": "execute_result",
          "execution_count": 175,
          "data": {
            "text/plain": "(1498, 13)"
          },
          "metadata": {}
        }
      ]
    },
    {
      "metadata": {
        "trusted": true
      },
      "cell_type": "code",
      "source": "len(sp_df_clean['industry'].unique())",
      "execution_count": 176,
      "outputs": [
        {
          "output_type": "execute_result",
          "execution_count": 176,
          "data": {
            "text/plain": "148"
          },
          "metadata": {}
        }
      ]
    },
    {
      "metadata": {},
      "cell_type": "markdown",
      "source": "** - Answer : <br> Before dropping NAs, there are 1506 constituents and 148 industries in the S&P 1500. <br> After dropping NAs, there are 1498 constituents and 148 industries in the S&P 1500. **"
    },
    {
      "metadata": {},
      "cell_type": "markdown",
      "source": "## 1.4 Determine the top 5 worst & best performing industries"
    },
    {
      "metadata": {},
      "cell_type": "markdown",
      "source": "#### 什么是best performance industry的定义？看看后两个能不能有启示 有启示YTD或者CGxx一个指标，或者只看YTD嘛，或者网上查一下标准"
    },
    {
      "metadata": {
        "trusted": true
      },
      "cell_type": "code",
      "source": "sp_industry = sp_df_clean.groupby(['industry'])",
      "execution_count": 192,
      "outputs": [
        {
          "output_type": "execute_result",
          "execution_count": 192,
          "data": {
            "text/plain": "<bound method GroupBy.mean of <pandas.core.groupby.groupby.SeriesGroupBy object at 0x7f712ab22780>>"
          },
          "metadata": {}
        }
      ]
    },
    {
      "metadata": {
        "trusted": true
      },
      "cell_type": "code",
      "source": "sp_industry['pct_price_change_ytd'].mean().sort_values(ascending=False).head(10)",
      "execution_count": 198,
      "outputs": [
        {
          "output_type": "execute_result",
          "execution_count": 198,
          "data": {
            "text/plain": "industry\nGold                                     21.660000\nInternet and Direct Marketing Retail     11.883000\nIntegrated Telecommunication Services    11.860000\nInteractive Home Entertainment           11.260000\nInternet Services and Infrastructure      8.685000\nFood Retail                               4.370000\nHealth Care Supplies                      4.056667\nHypermarkets and Super Centers            1.935000\nAlternative Carriers                      0.167500\nHousehold Products                       -1.132222\nName: pct_price_change_ytd, dtype: float64"
          },
          "metadata": {}
        }
      ]
    },
    {
      "metadata": {
        "trusted": true
      },
      "cell_type": "code",
      "source": "sp_industry['pct_pricechange_30day'].mean().sort_values(ascending=False).head(10)",
      "execution_count": 199,
      "outputs": [
        {
          "output_type": "execute_result",
          "execution_count": 199,
          "data": {
            "text/plain": "industry\nOil and Gas Exploration and Production    103.465000\nCoal and Consumable Fuels                  79.480000\nLeisure Facilities                         76.600000\nComputer and Electronics Retail            63.102500\nSpecialized Consumer Services              52.442500\nHomefurnishing Retail                      51.273333\nOil and Gas Storage and Transportation     50.851667\nRestaurants                                48.979200\nHousewares and Specialties                 48.850000\nHomebuilding                               45.356250\nName: pct_pricechange_30day, dtype: float64"
          },
          "metadata": {}
        }
      ]
    },
    {
      "metadata": {
        "trusted": true
      },
      "cell_type": "code",
      "source": "sp_df_clean.sort_values(by=['pct_price_change_ytd'], ascending=False).head()",
      "execution_count": 201,
      "outputs": [
        {
          "output_type": "execute_result",
          "execution_count": 201,
          "data": {
            "text/html": "<div>\n<style scoped>\n    .dataframe tbody tr th:only-of-type {\n        vertical-align: middle;\n    }\n\n    .dataframe tbody tr th {\n        vertical-align: top;\n    }\n\n    .dataframe thead th {\n        text-align: right;\n    }\n</style>\n<table border=\"1\" class=\"dataframe\">\n  <thead>\n    <tr style=\"text-align: right;\">\n      <th></th>\n      <th>company</th>\n      <th>ticker</th>\n      <th>price_close</th>\n      <th>pct_price_change_lastday</th>\n      <th>pct_pricechange_30day</th>\n      <th>pct_price_change_ytd</th>\n      <th>pct_price_change_12_month</th>\n      <th>price_earnings_ratio</th>\n      <th>price_bookvalue_ratio</th>\n      <th>marketcap_mm</th>\n      <th>revenue_mm</th>\n      <th>exchange</th>\n      <th>industry</th>\n    </tr>\n  </thead>\n  <tbody>\n    <tr>\n      <th>988</th>\n      <td>OraSure Technologies, Inc.</td>\n      <td>OSUR</td>\n      <td>15.04</td>\n      <td>-5.65</td>\n      <td>29.88</td>\n      <td>87.30</td>\n      <td>56.02</td>\n      <td>55.48x</td>\n      <td>3.02x</td>\n      <td>943.73</td>\n      <td>149.49</td>\n      <td>NasdaqGS</td>\n      <td>Health Care Supplies</td>\n    </tr>\n    <tr>\n      <th>1211</th>\n      <td>Stamps.com Inc.</td>\n      <td>STMP</td>\n      <td>154.49</td>\n      <td>-2.39</td>\n      <td>24.32</td>\n      <td>84.97</td>\n      <td>82.42</td>\n      <td>45.92x</td>\n      <td>3.95x</td>\n      <td>2635.02</td>\n      <td>571.85</td>\n      <td>NasdaqGS</td>\n      <td>Internet and Direct Marketing Retail</td>\n    </tr>\n    <tr>\n      <th>458</th>\n      <td>Enphase Energy, Inc.</td>\n      <td>ENPH</td>\n      <td>43.25</td>\n      <td>-7.64</td>\n      <td>45.28</td>\n      <td>65.52</td>\n      <td>233.20</td>\n      <td>34.89x</td>\n      <td>19.56x</td>\n      <td>5356.55</td>\n      <td>624.33</td>\n      <td>NasdaqGM</td>\n      <td>Semiconductor Equipment</td>\n    </tr>\n    <tr>\n      <th>1033</th>\n      <td>PetMed Express, Inc.</td>\n      <td>PETS</td>\n      <td>38.57</td>\n      <td>-2.53</td>\n      <td>36.87</td>\n      <td>63.99</td>\n      <td>78.98</td>\n      <td>30.72x</td>\n      <td>6.04x</td>\n      <td>770.76</td>\n      <td>274.4</td>\n      <td>NasdaqGS</td>\n      <td>Internet and Direct Marketing Retail</td>\n    </tr>\n    <tr>\n      <th>810</th>\n      <td>Luminex Corporation</td>\n      <td>LMNX</td>\n      <td>35.59</td>\n      <td>-1.28</td>\n      <td>31.57</td>\n      <td>53.67</td>\n      <td>56.44</td>\n      <td>NM</td>\n      <td>3.39x</td>\n      <td>1620.45</td>\n      <td>334.64</td>\n      <td>NasdaqGS</td>\n      <td>Life Sciences Tools and Services</td>\n    </tr>\n  </tbody>\n</table>\n</div>",
            "text/plain": "                         company ticker  price_close  \\\n988   OraSure Technologies, Inc.   OSUR        15.04   \n1211             Stamps.com Inc.   STMP       154.49   \n458         Enphase Energy, Inc.   ENPH        43.25   \n1033        PetMed Express, Inc.   PETS        38.57   \n810          Luminex Corporation   LMNX        35.59   \n\n      pct_price_change_lastday  pct_pricechange_30day  pct_price_change_ytd  \\\n988                      -5.65                  29.88                 87.30   \n1211                     -2.39                  24.32                 84.97   \n458                      -7.64                  45.28                 65.52   \n1033                     -2.53                  36.87                 63.99   \n810                      -1.28                  31.57                 53.67   \n\n      pct_price_change_12_month price_earnings_ratio price_bookvalue_ratio  \\\n988                       56.02               55.48x                 3.02x   \n1211                      82.42               45.92x                 3.95x   \n458                      233.20               34.89x                19.56x   \n1033                      78.98               30.72x                 6.04x   \n810                       56.44                   NM                 3.39x   \n\n      marketcap_mm revenue_mm  exchange                              industry  \n988         943.73     149.49  NasdaqGS                  Health Care Supplies  \n1211       2635.02     571.85  NasdaqGS  Internet and Direct Marketing Retail  \n458        5356.55     624.33  NasdaqGM               Semiconductor Equipment  \n1033        770.76      274.4  NasdaqGS  Internet and Direct Marketing Retail  \n810        1620.45     334.64  NasdaqGS      Life Sciences Tools and Services  "
          },
          "metadata": {}
        }
      ]
    },
    {
      "metadata": {},
      "cell_type": "markdown",
      "source": "## 1.5 Create a new data frame for the worst industry and a new data frame for the best industry both based on % Price Change [YTD]. For each of these new data frames, use the % Price Change [30 Day] to plot the top five ranking for worst and best performance constituents."
    },
    {
      "metadata": {
        "trusted": true
      },
      "cell_type": "code",
      "source": "",
      "execution_count": null,
      "outputs": []
    }
  ],
  "metadata": {
    "kernelspec": {
      "name": "python36",
      "display_name": "Python 3.6",
      "language": "python"
    },
    "language_info": {
      "mimetype": "text/x-python",
      "nbconvert_exporter": "python",
      "name": "python",
      "pygments_lexer": "ipython3",
      "version": "3.6.6",
      "file_extension": ".py",
      "codemirror_mode": {
        "version": 3,
        "name": "ipython"
      }
    }
  },
  "nbformat": 4,
  "nbformat_minor": 2
}