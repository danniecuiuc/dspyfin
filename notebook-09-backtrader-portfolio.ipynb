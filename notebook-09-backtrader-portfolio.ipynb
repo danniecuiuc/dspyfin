{
 "cells": [
  {
   "cell_type": "markdown",
   "metadata": {},
   "source": [
    "# Advanced Data Science &amp; Python for Finance  <br><br> Portfolio Backtesting \n",
    "\n",
    "-----\n",
    "\n",
    "FIN580-59305\n",
    "\n",
    "Jose Luis Rodriguez\n",
    "\n",
    "Director of Margolis Market Information Lab at University of Illinois at Urbana-Champaign.\n",
    "\n",
    "* linkedin.com/in/jlroo\n",
    "* github.com/jlroo\n",
    "\n",
    "-----\n",
    "\n",
    "* [Intrinio API](#intrinio)\n",
    "* [Common Financial Analyses](#commonanalyses)\n",
    "* [Building A Trading Strategy](#tradingstrategy)\n",
    "* [Backtesting with Pandas and Matplotlib](#backtesting)\n",
    "* [Backtrader](#backtrader)\n",
    "    "
   ]
  },
  {
   "cell_type": "markdown",
   "metadata": {},
   "source": [
    "## Packages and Settings\n",
    "\n",
    "First make sure that the API credentials are stored in a secure file to minimize exposure. We will use the package ``configparses`` to reach the credentials."
   ]
  },
  {
   "cell_type": "markdown",
   "metadata": {},
   "source": [
    "**Configuration**"
   ]
  },
  {
   "cell_type": "code",
   "execution_count": null,
   "metadata": {},
   "outputs": [],
   "source": [
    "import backtrader as bt\n",
    "import matplotlib.pyplot as plt\n",
    "%matplotlib inline"
   ]
  },
  {
   "cell_type": "markdown",
   "metadata": {},
   "source": [
    "**Scientific Analysis**"
   ]
  },
  {
   "cell_type": "code",
   "execution_count": null,
   "metadata": {},
   "outputs": [],
   "source": [
    "import pandas as pd"
   ]
  },
  {
   "cell_type": "markdown",
   "metadata": {},
   "source": [
    "<a id='backtrader'></a>\n",
    "\n",
    "# Backtrader \n",
    "\n",
    "**Strategy Overview**\n",
    "\n",
    "Given current market conditions and increase in volatility we may be able to take advantage of a simple moving average pair with rsi mean reversion on a portfolio of SP1500 stocks. \n",
    " \n",
    "**Strategy**\n",
    "\n",
    "SP1500 Communication Equipment stocks will rank by 3-day moving average. From that rank we will take the lower 10 stocks and rank them by their 10-day relative strength indicator (RSI) to determine what stocks may be oversold.\n",
    "\n",
    "Top two with highest RSI will be candidate for a buy and sell previous positions rebalance every Monday.\n",
    "\n",
    "**Trade Management and Position Sizing**\n",
    "\n",
    "* Position size buy/sell 100 shares at a time without \n",
    "* Backtrader will reject order if not enough funds"
   ]
  },
  {
   "cell_type": "markdown",
   "metadata": {},
   "source": [
    "## Data Preparation: Backtrader Data format"
   ]
  },
  {
   "cell_type": "code",
   "execution_count": null,
   "metadata": {},
   "outputs": [],
   "source": [
    "oil_df = pd.read_csv(\"../data/oil_df-dec.csv\", index_col= 0)"
   ]
  },
  {
   "cell_type": "code",
   "execution_count": null,
   "metadata": {},
   "outputs": [],
   "source": [
    "oil_df.columns"
   ]
  },
  {
   "cell_type": "code",
   "execution_count": null,
   "metadata": {},
   "outputs": [],
   "source": [
    "oil_df['secid'].unique()"
   ]
  },
  {
   "cell_type": "markdown",
   "metadata": {},
   "source": [
    "**Create a new dataframe for backtrader**"
   ]
  },
  {
   "cell_type": "code",
   "execution_count": null,
   "metadata": {},
   "outputs": [],
   "source": [
    "bt_data = oil_df[['adj_open', 'adj_high', 'adj_low', 'adj_close', 'adj_volume', 'secid']]"
   ]
  },
  {
   "cell_type": "markdown",
   "metadata": {},
   "source": [
    "**Change the name of the columns to work with backtrader**"
   ]
  },
  {
   "cell_type": "code",
   "execution_count": null,
   "metadata": {},
   "outputs": [],
   "source": [
    "bt_data = bt_data.rename(columns={'adj_open':'open', 'adj_high':'high', 'adj_low':'low',\n",
    "                                  'adj_close':'close', 'adj_volume':'volume', 'secid':'name'})\n",
    "bt_data.index.name = None"
   ]
  },
  {
   "cell_type": "markdown",
   "metadata": {},
   "source": [
    "**Save the complete prepared dataset with industry constituents stock prices**"
   ]
  },
  {
   "cell_type": "code",
   "execution_count": null,
   "metadata": {},
   "outputs": [],
   "source": [
    "bt_data.to_csv(\"../data/bt_oil.csv\")"
   ]
  },
  {
   "cell_type": "markdown",
   "metadata": {},
   "source": [
    "**We also need to save each individual stock price as separate file**"
   ]
  },
  {
   "cell_type": "code",
   "execution_count": null,
   "metadata": {},
   "outputs": [],
   "source": [
    "constituents = bt_data['name'].unique()"
   ]
  },
  {
   "cell_type": "code",
   "execution_count": null,
   "metadata": {},
   "outputs": [],
   "source": [
    "# Each stock price is saved to a folder inside the data folder (btdata)\n",
    "for stock in constituents:\n",
    "     bt_data[bt_data['name'] == stock].to_csv(\"../data/btdata/\" + stock + \".csv\")"
   ]
  },
  {
   "cell_type": "markdown",
   "metadata": {},
   "source": [
    "**NOTE: Only run the code below once to save all the individual stock prices to teh data folder ``../data/btdata``**"
   ]
  },
  {
   "cell_type": "markdown",
   "metadata": {},
   "source": [
    "## Creating a Backtrader Strategy "
   ]
  },
  {
   "cell_type": "markdown",
   "metadata": {},
   "source": [
    "**Read the constituents stock data into backtrader**"
   ]
  },
  {
   "cell_type": "code",
   "execution_count": null,
   "metadata": {},
   "outputs": [],
   "source": [
    "bt_data = pd.read_csv(\"../data/bt_oil.csv\",index_col = 0 )\n",
    "constituents = bt_data.name.unique()\n",
    "len(constituents)"
   ]
  },
  {
   "cell_type": "markdown",
   "metadata": {},
   "source": [
    "**Strategy Class**"
   ]
  },
  {
   "cell_type": "code",
   "execution_count": null,
   "metadata": {},
   "outputs": [],
   "source": [
    "class MomentumStrategy(bt.Strategy):\n",
    "    params = dict( \n",
    "        num_universe = 32, # Number of Industry Constituents \n",
    "        num_positions = 2, # Set the number of position to hold at any given time\n",
    "        when = bt.timer.SESSION_START,\n",
    "        weekdays = [5],\n",
    "        weekcarry = True,\n",
    "        rsi_period = 8, # Relative Strength Index Periods\n",
    "        sma_period = 18 # Moving Average Periods\n",
    "    )\n",
    "    \n",
    "    def __init__(self):\n",
    "        self.inds = {}\n",
    "        self.rsi = {}\n",
    "        \n",
    "        self.securities = self.datas[1:]\n",
    "        for s in self.securities:\n",
    "            self.inds[s] = {}\n",
    "            self.inds[s]['sma'] = bt.ind.SMA(s, period = self.p.sma_period)\n",
    "            self.inds[s]['sma'].plotinfo.plot = False\n",
    "            self.inds[s]['rsi'] = bt.ind.RSI(s, period = self.p.rsi_period)\n",
    "            self.inds[s]['rsi'].plotinfo.plot = False\n",
    "        \n",
    "        self.add_timer(\n",
    "            when = self.p.when,\n",
    "            weekdays = self.p.weekdays,\n",
    "            weekcarry = self.p.weekcarry\n",
    "        )\n",
    "        \n",
    "    def notify_timer(self, timer, when, *args, **kwargs):\n",
    "            self.rebalance()\n",
    "        \n",
    "    def notify_trade(self, trade):\n",
    "        if trade.size == 0:\n",
    "            print(\"DATE:\", trade.data.datetime.date(ago=0),\n",
    "                  \" TICKER:\", trade.data.p.name, \n",
    "                  \"\\tPROFIT:\", trade.pnlcomm)\n",
    "\n",
    "    def rebalance(self):\n",
    "        \n",
    "        rankings = list(self.securities)\n",
    "        \n",
    "        rankings.sort(\n",
    "            key = lambda s: self.inds[s]['sma'][0],\n",
    "            reverse = False\n",
    "        )\n",
    "        \n",
    "        rankings = rankings[:self.p.num_universe]\n",
    "        \n",
    "        rankings.sort(\n",
    "            key = lambda s: self.inds[s]['rsi'][0],\n",
    "            reverse = True\n",
    "        )\n",
    "\n",
    "        # position size short\n",
    "        pos_size = -1 / self.p.num_positions \n",
    "\n",
    "        # Sell when ranking\n",
    "        for i, d in enumerate(rankings):\n",
    "            if self.getposition(d).size:\n",
    "                if i > self.p.num_positions:\n",
    "                    self.close(d)\n",
    "\n",
    "        # Buy and rebalance stocks with remaining cash\n",
    "        for i, d in enumerate(rankings[:self.p.num_positions]):\n",
    "            self.order_target_percent(d, target = pos_size)\n",
    "            "
   ]
  },
  {
   "cell_type": "markdown",
   "metadata": {},
   "source": [
    "**Cerebro Parameters**"
   ]
  },
  {
   "cell_type": "code",
   "execution_count": null,
   "metadata": {},
   "outputs": [],
   "source": [
    "starcash = 100000"
   ]
  },
  {
   "cell_type": "code",
   "execution_count": null,
   "metadata": {},
   "outputs": [],
   "source": [
    "cerebro = bt.Cerebro()\n",
    "cerebro.broker.setcash(starcash)\n",
    "cerebro.broker.setcommission(commission=0.0)"
   ]
  },
  {
   "cell_type": "markdown",
   "metadata": {},
   "source": [
    "**Feed data to backtrader**"
   ]
  },
  {
   "cell_type": "code",
   "execution_count": null,
   "metadata": {},
   "outputs": [],
   "source": [
    "first_stock = True\n",
    "for stock in constituents:\n",
    "    # Load the each stock price data from the btdata folder \n",
    "    filename = \"../data/btdata/\" + stock + \".csv\"\n",
    "    data = bt.feeds.GenericCSVData(\n",
    "        dataname = filename,\n",
    "        dtformat = ('%Y-%m-%d'),\n",
    "        datetime = 0,\n",
    "        high = 2,\n",
    "        low = 3,\n",
    "        open = 1,\n",
    "        close = 4,\n",
    "        volume = 5,\n",
    "        openinterest = -1,\n",
    "        name = stock)\n",
    "    if first_stock:\n",
    "        data0 = data\n",
    "        data.plotinfo.sameaxis = False\n",
    "        data.plotinfo.plotylimited = True\n",
    "        first_stock = False\n",
    "    else:\n",
    "        data.plotinfo.plotmaster = data0\n",
    "        data.plotinfo.subplot = False\n",
    "        data.plotinfo.sameaxis = False\n",
    "        data.plotinfo.plotylimited = True\n",
    "    cerebro.adddata(data, name = stock)"
   ]
  },
  {
   "cell_type": "code",
   "execution_count": null,
   "metadata": {},
   "outputs": [],
   "source": [
    "cerebro.addstrategy(MomentumStrategy)"
   ]
  },
  {
   "cell_type": "code",
   "execution_count": null,
   "metadata": {},
   "outputs": [],
   "source": [
    "cerebro.addanalyzer(bt.analyzers.SharpeRatio, riskfreerate=0.0)\n",
    "cerebro.addanalyzer(bt.analyzers.Returns)\n",
    "cerebro.addanalyzer(bt.analyzers.DrawDown)"
   ]
  },
  {
   "cell_type": "code",
   "execution_count": null,
   "metadata": {
    "scrolled": false
   },
   "outputs": [],
   "source": [
    "# When run section you should see trades excuted\n",
    "# If there are no trades excuted modifed the RSI and/or the Moving Average periods.\n",
    "\n",
    "print('Starting Portfolio Value: %.2f' % cerebro.broker.getvalue())\n",
    "result = cerebro.run()\n",
    "print('Ending Portfolio Value: %.2f' % cerebro.broker.getvalue())"
   ]
  },
  {
   "cell_type": "code",
   "execution_count": null,
   "metadata": {},
   "outputs": [],
   "source": [
    "dd = result[0].analyzers.drawdown.get_analysis()['max']['drawdown']\n",
    "cagr = result[0].analyzers.returns.get_analysis()['rnorm100']\n",
    "sharpe = result[0].analyzers.sharperatio.get_analysis()['sharperatio']\n",
    "\n",
    "print(f\"Max Drawdown: {dd:.2f}%\\nCAGR: {cagr:.2f}%\\nSharpe: {sharpe:.3f}\")"
   ]
  },
  {
   "cell_type": "code",
   "execution_count": null,
   "metadata": {
    "scrolled": false
   },
   "outputs": [],
   "source": [
    "plt.rcParams['figure.figsize'] = [38, 32]\n",
    "cerebro.plot(volume=False)"
   ]
  },
  {
   "cell_type": "code",
   "execution_count": null,
   "metadata": {},
   "outputs": [],
   "source": []
  }
 ],
 "metadata": {
  "hide_input": false,
  "kernelspec": {
   "display_name": "Python 3",
   "language": "python",
   "name": "python3"
  },
  "language_info": {
   "codemirror_mode": {
    "name": "ipython",
    "version": 3
   },
   "file_extension": ".py",
   "mimetype": "text/x-python",
   "name": "python",
   "nbconvert_exporter": "python",
   "pygments_lexer": "ipython3",
   "version": "3.7.6"
  },
  "toc": {
   "nav_menu": {},
   "number_sections": true,
   "sideBar": true,
   "skip_h1_title": false,
   "toc_cell": false,
   "toc_position": {},
   "toc_section_display": "block",
   "toc_window_display": false
  }
 },
 "nbformat": 4,
 "nbformat_minor": 2
}
